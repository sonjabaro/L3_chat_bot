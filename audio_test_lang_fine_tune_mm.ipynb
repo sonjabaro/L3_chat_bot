{
 "cells": [
  {
   "cell_type": "code",
   "execution_count": 1,
   "metadata": {},
   "outputs": [],
   "source": [
    "\n",
    "# pip install langdetect\n",
    "# # pip install sentencepiece\n",
    "# pip install awscli\n",
    "# pip install boto3\n",
    "# pip install --upgrade gradio"
   ]
  },
  {
   "cell_type": "code",
   "execution_count": 2,
   "metadata": {},
   "outputs": [
    {
     "name": "stdout",
     "output_type": "stream",
     "text": [
      "WARNING:tensorflow:From c:\\Users\\mered\\anaconda3\\Lib\\site-packages\\keras\\src\\losses.py:2976: The name tf.losses.sparse_softmax_cross_entropy is deprecated. Please use tf.compat.v1.losses.sparse_softmax_cross_entropy instead.\n",
      "\n"
     ]
    }
   ],
   "source": [
    "import gradio as gr\n",
    "from transformers import pipeline, AutoTokenizer, TFAutoModelForSeq2SeqLM, MarianMTModel, MarianTokenizer\n",
    "from dotenv import load_dotenv\n",
    "import os\n",
    "import subprocess\n",
    "import torch\n",
    "#Google Text to Speech\n",
    "from gtts import gTTS\n",
    "import tempfile\n",
    "from langdetect import detect\n",
    "\n",
    "import boto3"
   ]
  },
  {
   "cell_type": "code",
   "execution_count": 3,
   "metadata": {},
   "outputs": [],
   "source": [
    "# Load environment variables.\n",
    "load_dotenv()\n",
    "\n",
    "# Set the model name for our LLMs.\n",
    "OPENAI_MODEL = \"gpt-3.5-turbo\"\n",
    "# Store the API key in a variable.\n",
    "OPENAI_API_KEY = os.getenv(\"OPENAI_API_KEY\")"
   ]
  },
  {
   "cell_type": "code",
   "execution_count": 4,
   "metadata": {},
   "outputs": [],
   "source": [
    "# This function transcribes audio to text using Whisper in the original language it was spoken\n",
    "def transcribe_audio_original(audio_filepath):\n",
    "    try:\n",
    "        transcription_pipeline = pipeline(\"automatic-speech-recognition\", model=\"openai/whisper-large\")\n",
    "        transcription_result = transcription_pipeline(audio_filepath)\n",
    "        transcribed_text = transcription_result['text']\n",
    "        return transcribed_text\n",
    "    except Exception as e:\n",
    "        print(f\"an error occured: {e}\")\n",
    "        return \"Error in transcription\""
   ]
  },
  {
   "cell_type": "code",
   "execution_count": 5,
   "metadata": {},
   "outputs": [],
   "source": [
    "\n",
    "# This function transcribes audio to text and then translates it into the specified language\n",
    "def translate(transcribed_text, target_lang=\"es\"):\n",
    "    try:\n",
    "        #Define the model and tokenizer\n",
    "        src_lang = detect(transcribed_text)\n",
    "        model_name =f\"Helsinki-NLP/opus-mt-{src_lang}-{target_lang}\"\n",
    "        tokenizer = MarianTokenizer.from_pretrained(model_name)\n",
    "        model = MarianMTModel.from_pretrained(model_name)\n",
    "        \n",
    "        #tokenize the text\n",
    "        encoded_text = tokenizer(transcribed_text, return_tensors=\"pt\", padding=True)\n",
    "        \n",
    "        #generate translation using the model\n",
    "        translated_tokens = model.generate(**encoded_text)\n",
    "        \n",
    "        #decode the translated tokens\n",
    "        translated_text = tokenizer.decode(translated_tokens[0], skip_special_tokens=True)\n",
    "        \n",
    "        return translated_text\n",
    "        \n",
    "    except Exception as e:\n",
    "        print(f\"An error occurred: {e}\")\n",
    "        return \"Error in transcription or translation\""
   ]
  },
  {
   "cell_type": "code",
   "execution_count": 6,
   "metadata": {},
   "outputs": [],
   "source": [
    "# Define function to translate text to speech for output\n",
    "# Uses Google Text-to-speech\n",
    "\n",
    "def text_to_speech(text):\n",
    "    tts = gTTS(text, lang='en')\n",
    "    temp_file = tempfile.NamedTemporaryFile(delete=False, suffix='.mp3')\n",
    "    tts.save(temp_file.name)\n",
    "    return temp_file.name"
   ]
  },
  {
   "cell_type": "code",
   "execution_count": 7,
   "metadata": {},
   "outputs": [],
   "source": [
    "# Create a voice map so that correct voice is selected based on target language.\n",
    "\n",
    "voice_map = {\n",
    "    \"ar\": \"Hala\",\n",
    "    \"en\": \"Gregory\",\n",
    "    \"es\": \"Mia\",\n",
    "    \"fr\": \"Liam\",\n",
    "    \"de\": \"Vicki\",\n",
    "    \"it\": \"Bianca\",\n",
    "    \"zh\": \"Hiujin\",\n",
    "    \"hi\": \"Kajal\",\n",
    "    \"jap\": \"Tomoko\",\n",
    "    \"trk\": \"Burcu\"\n",
    "    \n",
    "}"
   ]
  },
  {
   "cell_type": "code",
   "execution_count": 8,
   "metadata": {},
   "outputs": [],
   "source": [
    "# Define text-to-speech function using Amazon Polly\n",
    "\n",
    "def polly_text_to_speech(text, lang_code):\n",
    "    \n",
    "    try:\n",
    "    \n",
    "        #get the appropriate voice ID from the mapping\n",
    "        voice_id = voice_map[lang_code]\n",
    "        \n",
    "        #initialize boto3 client for polly\n",
    "        polly_client = boto3.client('polly')\n",
    "        \n",
    "        #request speech synthesis\n",
    "        response = polly_client.synthesize_speech(\n",
    "            Engine = 'neural',\n",
    "            Text=text,\n",
    "            OutputFormat='mp3',\n",
    "            VoiceId=voice_id\n",
    "        )\n",
    "        \n",
    "        # Save the audio to a temporary file and return its path\n",
    "        if \"AudioStream\" in response:\n",
    "            with tempfile.NamedTemporaryFile(delete=False, suffix='.mp3') as audio_file:\n",
    "                audio_file.write(response['AudioStream'].read())\n",
    "                return audio_file.name\n",
    "    except boto3.exceptions.Boto3Error as e:\n",
    "        print(f\"Error accessing Polly: {e}\")\n",
    "    return None  # Return None if there was an error\n",
    "    "
   ]
  },
  {
   "cell_type": "code",
   "execution_count": 9,
   "metadata": {},
   "outputs": [],
   "source": [
    "# Create a language map from full names to ISO codes\n",
    "language_map = {\n",
    "    \"Arabic (Gulf)\": \"ar\",\n",
    "    \"Chinese (Cantonese)\": \"zh\",\n",
    "    \"English\": \"en\",\n",
    "    \"French\": \"fr\",\n",
    "    \"German\": \"de\",\n",
    "    \"Hindi\": \"hi\",\n",
    "    \"Italian\": \"it\",\n",
    "    \"Japanese\": \"jap\",\n",
    "    \"Spanish\": \"es\",\n",
    "    \"Turkish\": \"trk\"\n",
    "    \n",
    "}"
   ]
  },
  {
   "cell_type": "code",
   "execution_count": 10,
   "metadata": {},
   "outputs": [],
   "source": [
    "def combined_function (audio_filepath, target_lang):\n",
    "    \n",
    "    #language detection for the original text\n",
    "    transcribed_text = transcribe_audio_original(audio_filepath)\n",
    "    detected_lang = detect(transcribed_text)\n",
    "    \n",
    "    #text to speech for original language\n",
    "    speech = polly_text_to_speech(transcribed_text, detected_lang)\n",
    "    \n",
    "    #translation and text to speech for target language\n",
    "    target_lang = language_map[target_lang]\n",
    "    translation = translate(transcribed_text, target_lang)\n",
    "    translated_speech = polly_text_to_speech(translation, target_lang)\n",
    "    \n",
    "    return transcribed_text, translation, speech, translated_speech"
   ]
  },
  {
   "cell_type": "code",
   "execution_count": 11,
   "metadata": {},
   "outputs": [],
   "source": [
    "default_language = \"English\"\n",
    "# default_index = list(language_map.keys()).index(default_language)\n",
    "\n",
    "def combined_function_2(audio_filepath=None, typed_text=None, target_lang=default_language):\n",
    "    \n",
    "    #Determine source of text: audio transctiption or direct text input\n",
    "    if audio_filepath and typed_text:\n",
    "        return \"Please use only one input method at a time\", None, None, None\n",
    "    elif typed_text:\n",
    "        query_text = typed_text\n",
    "    elif audio_filepath:\n",
    "        query_text = transcribe_audio_original(audio_filepath)\n",
    "    else:\n",
    "        return \"Please provide input by typing or speaking.\", None, None, None\n",
    "    \n",
    "    #Check if the language is specified. Default to English if not.\n",
    "    target_lang_code = language_map.get(target_lang, \"en\")\n",
    "    \n",
    "    #Process text: translate and convert to speech\n",
    "    translated_text = translate(query_text, target_lang_code)\n",
    "    original_speech = polly_text_to_speech(query_text, detect(query_text))\n",
    "    translated_speech = polly_text_to_speech(translated_text, target_lang_code)\n",
    "    \n",
    "    return query_text, translated_text, original_speech, translated_speech"
   ]
  },
  {
   "cell_type": "code",
   "execution_count": 12,
   "metadata": {},
   "outputs": [],
   "source": [
    "# Function to clear out all inputs\n",
    "\n",
    "def clear_inputs():\n",
    "    return \"\", \"\", None, None"
   ]
  },
  {
   "cell_type": "code",
   "execution_count": null,
   "metadata": {},
   "outputs": [],
   "source": [
    "# Create Gradio user interface for combined_function_2 allowing typed input or spoken input.\n",
    "\n",
    "with gr.Blocks() as app2:\n",
    "    \n",
    "    with gr.Row():\n",
    "        gr.Markdown(\"Audio Transcription and Text to Speech\")\n",
    "        gr.Markdown(\"Record your question and choose a translation question\")\n",
    "    \n",
    "    with gr.Row():\n",
    "        input_audio = gr.Audio(\n",
    "            label=\"Record your audio\",\n",
    "            type=\"filepath\")\n",
    "        input_text = gr.Textbox(\n",
    "            label=\"Or type your question\", \n",
    "            placeholder=\"Type here...\")\n",
    "        language_dropdown = gr.Dropdown(label=\"Click the middle of the dropdown bar to select translation language\",\n",
    "                                        choices=list(language_map.keys()), value=default_language, type='value')\n",
    "        \n",
    "    with gr.Row():\n",
    "        submit_button = gr.Button(\"Submit\")\n",
    "        clear_button = gr.Button(\"Clear\", elem_id=\"clear_button\")\n",
    "        \n",
    "    output_query = gr.Textbox(label=\"Original text\")\n",
    "    output_translated = gr.Textbox(label=\"Translated text\")\n",
    "    output_original_speech = gr.Audio(label=\"Audio of original text\")\n",
    "    output_translated_speech = gr.Audio(label=\"Audio of translated text\")\n",
    "    \n",
    "    submit_button.click(\n",
    "        fn=combined_function_2,\n",
    "        inputs=[input_audio, input_text, language_dropdown],\n",
    "        outputs=[output_query, output_translated, output_original_speech, output_translated_speech]\n",
    "    )\n",
    "    \n",
    "    clear_button.click(\n",
    "        fn=clear_inputs,\n",
    "        inputs=[],\n",
    "        outputs=[input_audio, input_text, output_query, output_translated, output_original_speech, output_translated_speech]\n",
    "    )\n",
    "    \n",
    "app2.launch(show_error=True, share=True)"
   ]
  },
  {
   "cell_type": "code",
   "execution_count": null,
   "metadata": {},
   "outputs": [],
   "source": [
    "# help(gr.Dropdown)"
   ]
  },
  {
   "cell_type": "code",
   "execution_count": null,
   "metadata": {},
   "outputs": [],
   "source": [
    "# list of languages and their codes for dropdown\n",
    "languages = gr.Dropdown(label=\"Click in the middle of the dropdown bar to select translation language\", choices=list(language_map.keys()))"
   ]
  },
  {
   "cell_type": "code",
   "execution_count": null,
   "metadata": {},
   "outputs": [],
   "source": [
    "# Create Gradio app to:\n",
    "# 1. transcribe spoken audio to text\n",
    "# 2. output transcribed text as speech\n",
    "\n",
    "input_audio = gr.Audio(\n",
    "            label=\"click on microphone to record audio in any language\", \n",
    "            type=\"filepath\", \n",
    "            #vaveform options customize the color of the wave seen when recording/playing.\n",
    "            waveform_options = gr.WaveformOptions(\n",
    "                waveform_color=\"#01C6FF\",\n",
    "                waveform_progress_color=\"#0066B4\",\n",
    "                skip_length=2,\n",
    "                show_controls=False,\n",
    "            ),\n",
    ")\n",
    "\n",
    "app = gr.Interface(\n",
    "    fn=combined_function,\n",
    "    inputs=[input_audio, languages],\n",
    "    outputs=[\n",
    "        gr.Textbox(label=\"Transcribed audio in original language\"),\n",
    "        gr.Textbox(label=\"Translated text in selected language\"),\n",
    "        gr.Audio(label=\"Audio speech in original language\"),\n",
    "        gr.Audio(label=\"Audio speech translated to selected language\")],\n",
    "    title=\"Audio Transcription and Text to Speech\",\n",
    "    description=\"Record your question and choose a translation language.\")\n",
    "    \n",
    "app.launch(show_error=True, share=True) #uncomment share=True in google colab"
   ]
  }
 ],
 "metadata": {
  "kernelspec": {
   "display_name": "base",
   "language": "python",
   "name": "python3"
  },
  "language_info": {
   "codemirror_mode": {
    "name": "ipython",
    "version": 3
   },
   "file_extension": ".py",
   "mimetype": "text/x-python",
   "name": "python",
   "nbconvert_exporter": "python",
   "pygments_lexer": "ipython3",
   "version": "3.11.5"
  }
 },
 "nbformat": 4,
 "nbformat_minor": 2
}
