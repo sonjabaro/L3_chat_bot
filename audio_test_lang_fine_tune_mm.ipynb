{
 "cells": [
  {
   "cell_type": "code",
   "execution_count": 1,
   "metadata": {},
   "outputs": [
    {
     "name": "stdout",
     "output_type": "stream",
     "text": [
      "Collecting langdetect\n",
      "  Downloading langdetect-1.0.9.tar.gz (981 kB)\n",
      "     ---------------------------------------- 0.0/981.5 kB ? eta -:--:--\n",
      "     ---------------------------------------- 10.2/981.5 kB ? eta -:--:--\n",
      "     -- ---------------------------------- 61.4/981.5 kB 812.7 kB/s eta 0:00:02\n",
      "     ------- ------------------------------ 194.6/981.5 kB 1.7 MB/s eta 0:00:01\n",
      "     ----------------- -------------------- 450.6/981.5 kB 2.8 MB/s eta 0:00:01\n",
      "     -------------------------------------  972.8/981.5 kB 4.7 MB/s eta 0:00:01\n",
      "     -------------------------------------- 981.5/981.5 kB 4.4 MB/s eta 0:00:00\n",
      "  Preparing metadata (setup.py): started\n",
      "  Preparing metadata (setup.py): finished with status 'done'\n",
      "Requirement already satisfied: six in c:\\users\\mered\\anaconda3\\lib\\site-packages (from langdetect) (1.16.0)\n",
      "Building wheels for collected packages: langdetect\n",
      "  Building wheel for langdetect (setup.py): started\n",
      "  Building wheel for langdetect (setup.py): finished with status 'done'\n",
      "  Created wheel for langdetect: filename=langdetect-1.0.9-py3-none-any.whl size=993253 sha256=06e5ea96081a3e4f89a2ca15338220be2b76692b982ed7762238635ad5ccd561\n",
      "  Stored in directory: c:\\users\\mered\\appdata\\local\\pip\\cache\\wheels\\0a\\f2\\b2\\e5ca405801e05eb7c8ed5b3b4bcf1fcabcd6272c167640072e\n",
      "Successfully built langdetect\n",
      "Installing collected packages: langdetect\n",
      "Successfully installed langdetect-1.0.9\n",
      "Note: you may need to restart the kernel to use updated packages.\n"
     ]
    }
   ],
   "source": [
    "pip install langdetect"
   ]
  },
  {
   "cell_type": "code",
   "execution_count": 1,
   "metadata": {},
   "outputs": [],
   "source": [
    "# pip install boto3"
   ]
  },
  {
   "cell_type": "code",
   "execution_count": 2,
   "metadata": {},
   "outputs": [],
   "source": [
    "# pip install awscli"
   ]
  },
  {
   "cell_type": "code",
   "execution_count": 21,
   "metadata": {},
   "outputs": [
    {
     "name": "stdout",
     "output_type": "stream",
     "text": [
      "Collecting sentencepiece\n",
      "  Obtaining dependency information for sentencepiece from https://files.pythonhosted.org/packages/a2/f6/587c62fd21fc988555b85351f50bbde43a51524caafd63bc69240ded14fd/sentencepiece-0.2.0-cp311-cp311-win_amd64.whl.metadata\n",
      "  Downloading sentencepiece-0.2.0-cp311-cp311-win_amd64.whl.metadata (8.3 kB)\n",
      "Downloading sentencepiece-0.2.0-cp311-cp311-win_amd64.whl (991 kB)\n",
      "   ---------------------------------------- 0.0/991.5 kB ? eta -:--:--\n",
      "   ---------------------------------------- 10.2/991.5 kB ? eta -:--:--\n",
      "   --- ------------------------------------ 92.2/991.5 kB 1.3 MB/s eta 0:00:01\n",
      "   ------- -------------------------------- 184.3/991.5 kB 1.6 MB/s eta 0:00:01\n",
      "   -------------------- ------------------- 512.0/991.5 kB 3.2 MB/s eta 0:00:01\n",
      "   --------------------------------- ------ 839.7/991.5 kB 4.1 MB/s eta 0:00:01\n",
      "   ---------------------------------------- 991.5/991.5 kB 4.8 MB/s eta 0:00:00\n",
      "Installing collected packages: sentencepiece\n",
      "Successfully installed sentencepiece-0.2.0\n",
      "Note: you may need to restart the kernel to use updated packages.\n"
     ]
    }
   ],
   "source": [
    "# pip install sentencepiece"
   ]
  },
  {
   "cell_type": "code",
   "execution_count": 3,
   "metadata": {},
   "outputs": [],
   "source": [
    "import gradio as gr\n",
    "from transformers import pipeline, AutoTokenizer, TFAutoModelForSeq2SeqLM\n",
    "from dotenv import load_dotenv\n",
    "import os\n",
    "import subprocess\n",
    "import torch\n",
    "#Google Text to Speech\n",
    "from gtts import gTTS\n",
    "import tempfile\n",
    "from langdetect import detect\n",
    "\n",
    "import boto3"
   ]
  },
  {
   "cell_type": "code",
   "execution_count": 4,
   "metadata": {},
   "outputs": [],
   "source": [
    "# Load environment variables.\n",
    "load_dotenv()\n",
    "\n",
    "# Set the model name for our LLMs.\n",
    "OPENAI_MODEL = \"gpt-3.5-turbo\"\n",
    "# Store the API key in a variable.\n",
    "OPENAI_API_KEY = os.getenv(\"OPENAI_API_KEY\")"
   ]
  },
  {
   "cell_type": "code",
   "execution_count": 5,
   "metadata": {},
   "outputs": [],
   "source": [
    "# This function transcribes audio to text using Whisper in the original language it was spoken\n",
    "def transcribe_audio_original(audio_filepath):\n",
    "    try:\n",
    "        transcription_pipeline = pipeline(\"automatic-speech-recognition\", model=\"openai/whisper-large\")\n",
    "        transcription_result = transcription_pipeline(audio_filepath)\n",
    "        transcribed_text = transcription_result['text']\n",
    "        return transcribed_text\n",
    "    except Exception as e:\n",
    "        print(f\"an error occured: {e}\")\n",
    "        return \"Error in transcription\""
   ]
  },
  {
   "cell_type": "code",
   "execution_count": 6,
   "metadata": {},
   "outputs": [],
   "source": [
    "from transformers import pipeline\n",
    "from transformers import MarianMTModel, MarianTokenizer\n",
    "\n",
    "# This function transcribes audio to text and then translates it into the specified language\n",
    "def translate(transcribed_text, target_lang=\"es\"):\n",
    "    try:\n",
    "        #Define the model and tokenizer\n",
    "        src_lang = detect(transcribed_text)\n",
    "        model_name =f\"Helsinki-NLP/opus-mt-{src_lang}-{target_lang}\"\n",
    "        tokenizer = MarianTokenizer.from_pretrained(model_name)\n",
    "        model = MarianMTModel.from_pretrained(model_name)\n",
    "        \n",
    "        #tokenize the text\n",
    "        encoded_text = tokenizer(transcribed_text, return_tensors=\"pt\", padding=True)\n",
    "        \n",
    "        #generate translation using the model\n",
    "        translated_tokens = model.generate(**encoded_text)\n",
    "        \n",
    "        #decode the translated tokens\n",
    "        translated_text = tokenizer.decode(translated_tokens[0], skip_special_tokens=True)\n",
    "        \n",
    "        return translated_text\n",
    "        \n",
    "    except Exception as e:\n",
    "        print(f\"An error occurred: {e}\")\n",
    "        return \"Error in transcription or translation\""
   ]
  },
  {
   "cell_type": "code",
   "execution_count": 14,
   "metadata": {},
   "outputs": [
    {
     "name": "stderr",
     "output_type": "stream",
     "text": [
      "Special tokens have been added in the vocabulary, make sure the associated word embeddings are fine-tuned or trained.\n"
     ]
    }
   ],
   "source": [
    "# test funciton to make sure it works\n",
    "transcribed_text = transcribe_audio_original('speech.mp3')"
   ]
  },
  {
   "cell_type": "code",
   "execution_count": 15,
   "metadata": {},
   "outputs": [
    {
     "name": "stdout",
     "output_type": "stream",
     "text": [
      " Hello, how are you? My name is Gregory and I need to say more words to find out how is sound.\n"
     ]
    }
   ],
   "source": [
    "print(f\"{transcribed_text}\")\n"
   ]
  },
  {
   "cell_type": "code",
   "execution_count": 16,
   "metadata": {},
   "outputs": [
    {
     "name": "stderr",
     "output_type": "stream",
     "text": [
      "c:\\Users\\mered\\anaconda3\\Lib\\site-packages\\transformers\\models\\marian\\tokenization_marian.py:197: UserWarning: Recommended: pip install sacremoses.\n",
      "  warnings.warn(\"Recommended: pip install sacremoses.\")\n"
     ]
    },
    {
     "name": "stdout",
     "output_type": "stream",
     "text": [
      "Translated text: Hola, ¿cómo estás? Mi nombre es Gregory y necesito decir más palabras para averiguar cómo suena.\n"
     ]
    }
   ],
   "source": [
    "# text = \"trying to see if we can translate this into Spanish\"\n",
    "translated_text = translate(transcribed_text, \"en\", \"es\")\n",
    "print(\"Translated text:\", translated_text)"
   ]
  },
  {
   "cell_type": "code",
   "execution_count": 7,
   "metadata": {},
   "outputs": [],
   "source": [
    "# Define function to translate text to speech for output\n",
    "# Uses Google Text-to-speech\n",
    "\n",
    "def text_to_speech(text):\n",
    "    tts = gTTS(text, lang='en')\n",
    "    temp_file = tempfile.NamedTemporaryFile(delete=False, suffix='.mp3')\n",
    "    tts.save(temp_file.name)\n",
    "    return temp_file.name"
   ]
  },
  {
   "cell_type": "code",
   "execution_count": 27,
   "metadata": {},
   "outputs": [],
   "source": [
    "# Create a voice map so that correct voice is selected based on target language.\n",
    "\n",
    "voice_map = {\n",
    "    \"en\": \"Gregory\",\n",
    "    \"es\": \"Mia\",\n",
    "    \"fr\": \"Liam\",\n",
    "    \"de\": \"Vicki\",\n",
    "    \"it\": \"Bianca\",\n",
    "    \"pt\": \"Camila\",\n",
    "    \"cmn-CN\": \"Zhiyu\"\n",
    "    \n",
    "}"
   ]
  },
  {
   "cell_type": "code",
   "execution_count": 20,
   "metadata": {},
   "outputs": [],
   "source": [
    "# Define text-to-speech function using Amazon Polly\n",
    "\n",
    "def polly_text_to_speech(text, lang_code):\n",
    "    \n",
    "    try:\n",
    "    \n",
    "        #get the appropriate voice ID from the mapping\n",
    "        voice_id = voice_map[lang_code]\n",
    "        \n",
    "        #initialize boto3 client for polly\n",
    "        polly_client = boto3.client('polly')\n",
    "        \n",
    "        #request speech synthesis\n",
    "        response = polly_client.synthesize_speech(\n",
    "            Engine = 'neural',\n",
    "            Text=text,\n",
    "            OutputFormat='mp3',\n",
    "            VoiceId=voice_id\n",
    "        )\n",
    "        \n",
    "        # Save the audio to a temporary file and return its path\n",
    "        if \"AudioStream\" in response:\n",
    "            with tempfile.NamedTemporaryFile(delete=False, suffix='.mp3') as audio_file:\n",
    "                audio_file.write(response['AudioStream'].read())\n",
    "                return audio_file.name\n",
    "    except boto3.exceptions.Boto3Error as e:\n",
    "        print(f\"Error accessing Polly: {e}\")\n",
    "    return None  # Return None if there was an error\n",
    "    "
   ]
  },
  {
   "cell_type": "code",
   "execution_count": 21,
   "metadata": {},
   "outputs": [],
   "source": [
    "# Create a language map from full names to ISO codes\n",
    "language_map = {\n",
    "    \"English\": \"en\",\n",
    "    \"Spanish\": \"es\",\n",
    "    \"French\": \"fr\",\n",
    "    \"German\": \"de\",\n",
    "    \"Italian\": \"it\",\n",
    "    \"Portuguese\": \"pt\",\n",
    "    \"Chinese (Mandarin)\": \"cmn-CN\",\n",
    "}"
   ]
  },
  {
   "cell_type": "code",
   "execution_count": 24,
   "metadata": {},
   "outputs": [],
   "source": [
    "def combined_function (audio_filepath, target_lang):\n",
    "    target_lang = language_map[target_lang]\n",
    "    transcribed_text = transcribe_audio_original(audio_filepath)\n",
    "    speech = polly_text_to_speech(transcribed_text, target_lang)\n",
    "    translation = translate(transcribed_text, target_lang)\n",
    "    translated_speech = polly_text_to_speech(translation, target_lang)\n",
    "    return transcribed_text, translation, speech, translated_speech"
   ]
  },
  {
   "cell_type": "code",
   "execution_count": 25,
   "metadata": {},
   "outputs": [],
   "source": [
    "# list of languages and their codes for dropdown\n",
    "languages = gr.Dropdown(label=\"Select Translation Language\", choices=list(language_map.keys()))"
   ]
  },
  {
   "cell_type": "code",
   "execution_count": 28,
   "metadata": {},
   "outputs": [
    {
     "name": "stdout",
     "output_type": "stream",
     "text": [
      "Running on local URL:  http://127.0.0.1:7872\n",
      "Running on public URL: https://c901977695be706412.gradio.live\n",
      "\n",
      "This share link expires in 72 hours. For free permanent hosting and GPU upgrades, run `gradio deploy` from Terminal to deploy to Spaces (https://huggingface.co/spaces)\n"
     ]
    },
    {
     "data": {
      "text/html": [
       "<div><iframe src=\"https://c901977695be706412.gradio.live\" width=\"100%\" height=\"500\" allow=\"autoplay; camera; microphone; clipboard-read; clipboard-write;\" frameborder=\"0\" allowfullscreen></iframe></div>"
      ],
      "text/plain": [
       "<IPython.core.display.HTML object>"
      ]
     },
     "metadata": {},
     "output_type": "display_data"
    },
    {
     "data": {
      "text/plain": []
     },
     "execution_count": 28,
     "metadata": {},
     "output_type": "execute_result"
    },
    {
     "name": "stderr",
     "output_type": "stream",
     "text": [
      "ERROR:    Exception in ASGI application\n",
      "Traceback (most recent call last):\n",
      "  File \"c:\\Users\\mered\\anaconda3\\Lib\\site-packages\\uvicorn\\protocols\\http\\httptools_impl.py\", line 411, in run_asgi\n",
      "    result = await app(  # type: ignore[func-returns-value]\n",
      "             ^^^^^^^^^^^^^^^^^^^^^^^^^^^^^^^^^^^^^^^^^^^^^^\n",
      "  File \"c:\\Users\\mered\\anaconda3\\Lib\\site-packages\\uvicorn\\middleware\\proxy_headers.py\", line 69, in __call__\n",
      "    return await self.app(scope, receive, send)\n",
      "           ^^^^^^^^^^^^^^^^^^^^^^^^^^^^^^^^^^^^\n",
      "  File \"c:\\Users\\mered\\anaconda3\\Lib\\site-packages\\fastapi\\applications.py\", line 1054, in __call__\n",
      "    await super().__call__(scope, receive, send)\n",
      "  File \"c:\\Users\\mered\\anaconda3\\Lib\\site-packages\\starlette\\applications.py\", line 123, in __call__\n",
      "    await self.middleware_stack(scope, receive, send)\n",
      "  File \"c:\\Users\\mered\\anaconda3\\Lib\\site-packages\\starlette\\middleware\\errors.py\", line 186, in __call__\n",
      "    raise exc\n",
      "  File \"c:\\Users\\mered\\anaconda3\\Lib\\site-packages\\starlette\\middleware\\errors.py\", line 164, in __call__\n",
      "    await self.app(scope, receive, _send)\n",
      "  File \"c:\\Users\\mered\\anaconda3\\Lib\\site-packages\\gradio\\route_utils.py\", line 680, in __call__\n",
      "    await self.app(scope, receive, send)\n",
      "  File \"c:\\Users\\mered\\anaconda3\\Lib\\site-packages\\starlette\\middleware\\exceptions.py\", line 62, in __call__\n",
      "    await wrap_app_handling_exceptions(self.app, conn)(scope, receive, send)\n",
      "  File \"c:\\Users\\mered\\anaconda3\\Lib\\site-packages\\starlette\\_exception_handler.py\", line 64, in wrapped_app\n",
      "    raise exc\n",
      "  File \"c:\\Users\\mered\\anaconda3\\Lib\\site-packages\\starlette\\_exception_handler.py\", line 53, in wrapped_app\n",
      "    await app(scope, receive, sender)\n",
      "  File \"c:\\Users\\mered\\anaconda3\\Lib\\site-packages\\starlette\\routing.py\", line 758, in __call__\n",
      "    await self.middleware_stack(scope, receive, send)\n",
      "  File \"c:\\Users\\mered\\anaconda3\\Lib\\site-packages\\starlette\\routing.py\", line 778, in app\n",
      "    await route.handle(scope, receive, send)\n",
      "  File \"c:\\Users\\mered\\anaconda3\\Lib\\site-packages\\starlette\\routing.py\", line 299, in handle\n",
      "    await self.app(scope, receive, send)\n",
      "  File \"c:\\Users\\mered\\anaconda3\\Lib\\site-packages\\starlette\\routing.py\", line 79, in app\n",
      "    await wrap_app_handling_exceptions(app, request)(scope, receive, send)\n",
      "  File \"c:\\Users\\mered\\anaconda3\\Lib\\site-packages\\starlette\\_exception_handler.py\", line 64, in wrapped_app\n",
      "    raise exc\n",
      "  File \"c:\\Users\\mered\\anaconda3\\Lib\\site-packages\\starlette\\_exception_handler.py\", line 53, in wrapped_app\n",
      "    await app(scope, receive, sender)\n",
      "  File \"c:\\Users\\mered\\anaconda3\\Lib\\site-packages\\starlette\\routing.py\", line 77, in app\n",
      "    await response(scope, receive, send)\n",
      "  File \"c:\\Users\\mered\\anaconda3\\Lib\\site-packages\\starlette\\responses.py\", line 351, in __call__\n",
      "    await send(\n",
      "  File \"c:\\Users\\mered\\anaconda3\\Lib\\site-packages\\starlette\\_exception_handler.py\", line 50, in sender\n",
      "    await send(message)\n",
      "  File \"c:\\Users\\mered\\anaconda3\\Lib\\site-packages\\starlette\\_exception_handler.py\", line 50, in sender\n",
      "    await send(message)\n",
      "  File \"c:\\Users\\mered\\anaconda3\\Lib\\site-packages\\starlette\\middleware\\errors.py\", line 161, in _send\n",
      "    await send(message)\n",
      "  File \"c:\\Users\\mered\\anaconda3\\Lib\\site-packages\\uvicorn\\protocols\\http\\httptools_impl.py\", line 549, in send\n",
      "    raise RuntimeError(\"Response content shorter than Content-Length\")\n",
      "RuntimeError: Response content shorter than Content-Length\n",
      "ERROR:    Exception in ASGI application\n",
      "Traceback (most recent call last):\n",
      "  File \"c:\\Users\\mered\\anaconda3\\Lib\\site-packages\\uvicorn\\protocols\\http\\httptools_impl.py\", line 411, in run_asgi\n",
      "    result = await app(  # type: ignore[func-returns-value]\n",
      "             ^^^^^^^^^^^^^^^^^^^^^^^^^^^^^^^^^^^^^^^^^^^^^^\n",
      "  File \"c:\\Users\\mered\\anaconda3\\Lib\\site-packages\\uvicorn\\middleware\\proxy_headers.py\", line 69, in __call__\n",
      "    return await self.app(scope, receive, send)\n",
      "           ^^^^^^^^^^^^^^^^^^^^^^^^^^^^^^^^^^^^\n",
      "  File \"c:\\Users\\mered\\anaconda3\\Lib\\site-packages\\fastapi\\applications.py\", line 1054, in __call__\n",
      "    await super().__call__(scope, receive, send)\n",
      "  File \"c:\\Users\\mered\\anaconda3\\Lib\\site-packages\\starlette\\applications.py\", line 123, in __call__\n",
      "    await self.middleware_stack(scope, receive, send)\n",
      "  File \"c:\\Users\\mered\\anaconda3\\Lib\\site-packages\\starlette\\middleware\\errors.py\", line 186, in __call__\n",
      "    raise exc\n",
      "  File \"c:\\Users\\mered\\anaconda3\\Lib\\site-packages\\starlette\\middleware\\errors.py\", line 164, in __call__\n",
      "    await self.app(scope, receive, _send)\n",
      "  File \"c:\\Users\\mered\\anaconda3\\Lib\\site-packages\\gradio\\route_utils.py\", line 680, in __call__\n",
      "    await self.app(scope, receive, send)\n",
      "  File \"c:\\Users\\mered\\anaconda3\\Lib\\site-packages\\starlette\\middleware\\exceptions.py\", line 62, in __call__\n",
      "    await wrap_app_handling_exceptions(self.app, conn)(scope, receive, send)\n",
      "  File \"c:\\Users\\mered\\anaconda3\\Lib\\site-packages\\starlette\\_exception_handler.py\", line 64, in wrapped_app\n",
      "    raise exc\n",
      "  File \"c:\\Users\\mered\\anaconda3\\Lib\\site-packages\\starlette\\_exception_handler.py\", line 53, in wrapped_app\n",
      "    await app(scope, receive, sender)\n",
      "  File \"c:\\Users\\mered\\anaconda3\\Lib\\site-packages\\starlette\\routing.py\", line 758, in __call__\n",
      "    await self.middleware_stack(scope, receive, send)\n",
      "  File \"c:\\Users\\mered\\anaconda3\\Lib\\site-packages\\starlette\\routing.py\", line 778, in app\n",
      "    await route.handle(scope, receive, send)\n",
      "  File \"c:\\Users\\mered\\anaconda3\\Lib\\site-packages\\starlette\\routing.py\", line 299, in handle\n",
      "    await self.app(scope, receive, send)\n",
      "  File \"c:\\Users\\mered\\anaconda3\\Lib\\site-packages\\starlette\\routing.py\", line 79, in app\n",
      "    await wrap_app_handling_exceptions(app, request)(scope, receive, send)\n",
      "  File \"c:\\Users\\mered\\anaconda3\\Lib\\site-packages\\starlette\\_exception_handler.py\", line 64, in wrapped_app\n",
      "    raise exc\n",
      "  File \"c:\\Users\\mered\\anaconda3\\Lib\\site-packages\\starlette\\_exception_handler.py\", line 53, in wrapped_app\n",
      "    await app(scope, receive, sender)\n",
      "  File \"c:\\Users\\mered\\anaconda3\\Lib\\site-packages\\starlette\\routing.py\", line 77, in app\n",
      "    await response(scope, receive, send)\n",
      "  File \"c:\\Users\\mered\\anaconda3\\Lib\\site-packages\\starlette\\responses.py\", line 351, in __call__\n",
      "    await send(\n",
      "  File \"c:\\Users\\mered\\anaconda3\\Lib\\site-packages\\starlette\\_exception_handler.py\", line 50, in sender\n",
      "    await send(message)\n",
      "  File \"c:\\Users\\mered\\anaconda3\\Lib\\site-packages\\starlette\\_exception_handler.py\", line 50, in sender\n",
      "    await send(message)\n",
      "  File \"c:\\Users\\mered\\anaconda3\\Lib\\site-packages\\starlette\\middleware\\errors.py\", line 161, in _send\n",
      "    await send(message)\n",
      "  File \"c:\\Users\\mered\\anaconda3\\Lib\\site-packages\\uvicorn\\protocols\\http\\httptools_impl.py\", line 549, in send\n",
      "    raise RuntimeError(\"Response content shorter than Content-Length\")\n",
      "RuntimeError: Response content shorter than Content-Length\n",
      "Special tokens have been added in the vocabulary, make sure the associated word embeddings are fine-tuned or trained.\n",
      "c:\\Users\\mered\\anaconda3\\Lib\\site-packages\\transformers\\models\\marian\\tokenization_marian.py:197: UserWarning: Recommended: pip install sacremoses.\n",
      "  warnings.warn(\"Recommended: pip install sacremoses.\")\n",
      "Special tokens have been added in the vocabulary, make sure the associated word embeddings are fine-tuned or trained.\n",
      "Special tokens have been added in the vocabulary, make sure the associated word embeddings are fine-tuned or trained.\n"
     ]
    },
    {
     "name": "stdout",
     "output_type": "stream",
     "text": [
      "An error occurred: Helsinki-NLP/opus-mt-en-cmn-CN is not a local folder and is not a valid model identifier listed on 'https://huggingface.co/models'\n",
      "If this is a private repository, make sure to pass a token having permission to this repo either by logging in with `huggingface-cli login` or by passing `token=<your_token>`\n"
     ]
    }
   ],
   "source": [
    "# Create Gradio app to:\n",
    "# 1. transcribe spoken audio to text\n",
    "# 2. output transcribed text as speech\n",
    "\n",
    "input_audio = gr.Audio(\n",
    "            label=\"click on microphone to record audio\", \n",
    "            type=\"filepath\", \n",
    "            #vaveform options customize the color of the wave seen when recording/playing.\n",
    "            waveform_options = gr.WaveformOptions(\n",
    "                waveform_color=\"#01C6FF\",\n",
    "                waveform_progress_color=\"#0066B4\",\n",
    "                skip_length=2,\n",
    "                show_controls=False,\n",
    "            ),\n",
    ")\n",
    "\n",
    "app = gr.Interface(\n",
    "    fn=combined_function,\n",
    "    inputs=[input_audio, languages],\n",
    "    outputs=[\n",
    "        gr.Textbox(label=\"Transcribed audio\"),\n",
    "        gr.Textbox(label=\"Translated text\"),\n",
    "        gr.Audio(label=\"English speech\"),\n",
    "        gr.Audio(label=\"Translated speech\")],\n",
    "    title=\"Audio Transcription and Text to Speech\",\n",
    "    description=\"Record your question and choose a translation language.\")\n",
    "    \n",
    "app.launch(show_error=True, share=True) #uncomment share=True in google colab"
   ]
  },
  {
   "cell_type": "code",
   "execution_count": null,
   "metadata": {},
   "outputs": [],
   "source": [
    "# create combined function with both transcribe audio and text_to_speech\n",
    "\n",
    "def combined_function (audio_filepath, language_option):\n",
    "    # language = language_option[0]\n",
    "    transcribed_text = transcribe_audio_original(audio_filepath)\n",
    "    \n",
    "    # map languages to Polly voice IDs\n",
    "    voice_map = {\n",
    "        \"English\": \"Joanna\",\n",
    "        \"Spanish\": \"Conchita\",\n",
    "        \"French\": \"Celine\",\n",
    "        \"German\": \"Marlene\",\n",
    "        \"Chinese\": \"Zhiyu\"\n",
    "    }\n",
    "    voice_id = voice_map.get(language_option, \"Joanna\")\n",
    "    transcribed_text_new = transcribe_and_translate(audio_filepath)\n",
    "    speech_file_path = polly_text_to_speech(transcribed_text, voice_id)\n",
    "    return transcribed_text, transcribed_text_new, speech_file_path\n"
   ]
  },
  {
   "cell_type": "code",
   "execution_count": null,
   "metadata": {},
   "outputs": [],
   "source": [
    "def test_function(audio_filepath, language):\n",
    "    return str(language)  # This will show what `language` is being received as.\n"
   ]
  },
  {
   "cell_type": "code",
   "execution_count": null,
   "metadata": {},
   "outputs": [],
   "source": [
    "# Create Gradio app to:\n",
    "# 1. transcribe spoken audio to text\n",
    "# 2. output transcribed text as speech\n",
    "\n",
    "languages = [\"English\", \"Spanish\", \"French\", \"German\", \"Chinese\"]\n",
    "input_audio = gr.Audio(label=\"Click on the microphone to record audio\", type=\"filepath\",\n",
    "                 waveform_options=gr.WaveformOptions(\n",
    "                     waveform_color=\"#01C6FF\",\n",
    "                     waveform_progress_color=\"#0066B4\",\n",
    "                     skip_length=2,\n",
    "                     show_controls=False,\n",
    "                     )\n",
    ")\n",
    "dropdown = gr.Dropdown(languages, label=\"Select Language\")\n",
    "\n",
    "app = gr.Interface(\n",
    "    fn=combined_function,\n",
    "    inputs=[input_audio, dropdown],\n",
    "    outputs=[\n",
    "        gr.Textbox(label=\"Transcribed audio\"),\n",
    "        gr.Audio(label=\"Text to speech output\")],\n",
    "    title=\"Audio Transcription and Text to Speech\",\n",
    "    description=\"Select a language, click on the microphone to record audio, then receive transcription in text and speech.\")\n",
    "    \n",
    "app.launch(show_error=True) #share=True) #uncomment share=True in google colab"
   ]
  },
  {
   "cell_type": "code",
   "execution_count": null,
   "metadata": {},
   "outputs": [],
   "source": [
    "# Create Gradio app to:\n",
    "# 1. transcribe spoken audio to text\n",
    "# 2. output transcribed text as speech\n",
    "\n",
    "languages = [\"English\", \"Spanish\", \"French\", \"German\", \"Chinese\"]\n",
    "input_audio = gr.Audio(label=\"Click on the microphone to record audio\", type=\"filepath\",\n",
    "                 waveform_options=gr.WaveformOptions(\n",
    "                     waveform_color=\"#01C6FF\",\n",
    "                     waveform_progress_color=\"#0066B4\",\n",
    "                     skip_length=2,\n",
    "                     show_controls=False,\n",
    "                     ))\n",
    "dropdown = gr.Dropdown(choices=[\"English\", \"Spanish\", \"French\", \"German\", \"Chinese\"], label=\"Select Language\")\n",
    "\n",
    "app = gr.Interface(\n",
    "    fn=combined_function,\n",
    "    inputs=[input_audio, dropdown],\n",
    "    outputs=[\n",
    "        gr.Textbox(label=\"Transcribed audio\"),\n",
    "        gr.Audio(label=\"Text to speech output\")],\n",
    "    title=\"Audio Transcription and Text to Speech\",\n",
    "    description=\"Select a language, click on the microphone to record audio, then receive transcription in text and speech.\")\n",
    "    \n",
    "app.launch(show_error=True) #share=True) #uncomment share=True in google colab"
   ]
  }
 ],
 "metadata": {
  "kernelspec": {
   "display_name": "base",
   "language": "python",
   "name": "python3"
  },
  "language_info": {
   "codemirror_mode": {
    "name": "ipython",
    "version": 3
   },
   "file_extension": ".py",
   "mimetype": "text/x-python",
   "name": "python",
   "nbconvert_exporter": "python",
   "pygments_lexer": "ipython3",
   "version": "3.11.5"
  }
 },
 "nbformat": 4,
 "nbformat_minor": 2
}
