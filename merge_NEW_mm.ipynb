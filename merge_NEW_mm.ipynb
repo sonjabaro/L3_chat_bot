{
 "cells": [
  {
   "cell_type": "code",
   "execution_count": 1,
   "metadata": {},
   "outputs": [],
   "source": [
    "# pip install langdetect\n",
    "# pip install sentencepiece\n",
    "# pip install boto3\n",
    "# pip install awscli\n",
    "# pip install sacremoses"
   ]
  },
  {
   "cell_type": "code",
   "execution_count": 2,
   "metadata": {},
   "outputs": [
    {
     "name": "stdout",
     "output_type": "stream",
     "text": [
      "WARNING:tensorflow:From c:\\Users\\mered\\anaconda3\\Lib\\site-packages\\keras\\src\\losses.py:2976: The name tf.losses.sparse_softmax_cross_entropy is deprecated. Please use tf.compat.v1.losses.sparse_softmax_cross_entropy instead.\n",
      "\n"
     ]
    }
   ],
   "source": [
    "import gradio as gr\n",
    "from transformers import pipeline, AutoTokenizer, TFAutoModelForSeq2SeqLM\n",
    "from dotenv import load_dotenv\n",
    "import os\n",
    "import subprocess\n",
    "import torch\n",
    "import tempfile\n",
    "from langdetect import detect\n",
    "from transformers import MarianMTModel, MarianTokenizer\n",
    "import re\n",
    "import boto3"
   ]
  },
  {
   "cell_type": "code",
   "execution_count": 3,
   "metadata": {},
   "outputs": [],
   "source": [
    "# import functions from functions file\n",
    "\n",
    "from functions_mm import handle_query, transcribe_audio_original, submit_question, polly_text_to_speech, translate, translate_and_speech, clear_inputs, voice_map, language_map, default_language, languages\n",
    "\n"
   ]
  },
  {
   "cell_type": "code",
   "execution_count": 4,
   "metadata": {},
   "outputs": [],
   "source": [
    "# # Load environment variables.\n",
    "# load_dotenv()\n",
    "\n",
    "# # Set the model name for our LLMs.\n",
    "# OPENAI_MODEL = \"gpt-3.5-turbo\"\n",
    "# # Store the API key in a variable.\n",
    "# OPENAI_API_KEY = os.getenv(\"OPENAI_API_KEY\")"
   ]
  },
  {
   "cell_type": "code",
   "execution_count": 5,
   "metadata": {},
   "outputs": [
    {
     "name": "stdout",
     "output_type": "stream",
     "text": [
      "Running on local URL:  http://127.0.0.1:7860\n",
      "\n",
      "To create a public link, set `share=True` in `launch()`.\n"
     ]
    },
    {
     "data": {
      "text/html": [
       "<div><iframe src=\"http://127.0.0.1:7860/\" width=\"100%\" height=\"500\" allow=\"autoplay; camera; microphone; clipboard-read; clipboard-write;\" frameborder=\"0\" allowfullscreen></iframe></div>"
      ],
      "text/plain": [
       "<IPython.core.display.HTML object>"
      ]
     },
     "metadata": {},
     "output_type": "display_data"
    },
    {
     "data": {
      "text/plain": []
     },
     "execution_count": 5,
     "metadata": {},
     "output_type": "execute_result"
    }
   ],
   "source": [
    "gr.themes.builder()"
   ]
  },
  {
   "cell_type": "code",
   "execution_count": 31,
   "metadata": {},
   "outputs": [],
   "source": [
    "import gradio as gr\n",
    "\n",
    "theme = gr.themes.Soft(\n",
    "    secondary_hue=\"teal\",\n",
    "    neutral_hue=\"slate\",\n",
    "    font=[gr.themes.GoogleFont('Source Sans Pro'), 'ui-sans-serif', 'system-ui', 'sans-serif'],\n",
    ").set(\n",
    "    background_fill_primary='white',\n",
    "    \n",
    "    #change background color here\n",
    "    body_background_fill='*primary_100',\n",
    "    \n",
    "    shadow_drop='rgba(0,0,0,0.05) 0px 1px 2px 0px',\n",
    "    shadow_drop_lg='0 1px 3px 0 rgb(0 0 0 / 0.1), 0 1px 2px -1px rgb(0 0 0 / 0.1)',\n",
    "    shadow_spread='3px',\n",
    "    block_background_fill='*background_fill_primary',\n",
    "    block_border_width='1px',\n",
    "    block_border_width_dark='1px',\n",
    "    block_label_background_fill='*background_fill_primary',\n",
    "    block_label_background_fill_dark='*background_fill_secondary',\n",
    "    block_label_text_color='*neutral_500',\n",
    "    block_label_text_color_dark='*neutral_200',\n",
    "    block_label_margin='0',\n",
    "    block_label_padding='*spacing_sm *spacing_lg',\n",
    "    block_label_radius='calc(*radius_lg - 1px) 0 calc(*radius_lg - 1px) 0',\n",
    "    block_label_text_size='*text_sm',\n",
    "    block_label_text_weight='400',\n",
    "    block_title_background_fill='none',\n",
    "    block_title_background_fill_dark='none',\n",
    "    block_title_text_color='*neutral_500',\n",
    "    block_title_text_color_dark='*neutral_200',\n",
    "    block_title_padding='0',\n",
    "    block_title_radius='none',\n",
    "    block_title_text_weight='400',\n",
    "    \n",
    "    #panel border width change here\n",
    "    panel_border_width='1px',\n",
    "    \n",
    "    #try panel border here\n",
    "    panel_border_color='*neutral_900',\n",
    "    \n",
    "    panel_border_width_dark='0',\n",
    "    checkbox_background_color_selected='*secondary_600',\n",
    "    checkbox_background_color_selected_dark='*secondary_600',\n",
    "    checkbox_border_color='*neutral_300',\n",
    "    checkbox_border_color_dark='*neutral_700',\n",
    "    checkbox_border_color_focus='*secondary_500',\n",
    "    checkbox_border_color_focus_dark='*secondary_500',\n",
    "    checkbox_border_color_selected='*secondary_600',\n",
    "    checkbox_border_color_selected_dark='*secondary_600',\n",
    "    checkbox_border_width='*input_border_width',\n",
    "    checkbox_shadow='*input_shadow',\n",
    "    checkbox_label_background_fill_selected='*checkbox_label_background_fill',\n",
    "    checkbox_label_background_fill_selected_dark='*checkbox_label_background_fill',\n",
    "    checkbox_label_shadow='none',\n",
    "    checkbox_label_text_color_selected='*checkbox_label_text_color',\n",
    "    input_background_fill='*neutral_100',\n",
    "    input_border_color='*border_color_primary',\n",
    "    input_shadow='none',\n",
    "    input_shadow_dark='none',\n",
    "    input_shadow_focus='*input_shadow',\n",
    "    input_shadow_focus_dark='*input_shadow',\n",
    "    slider_color='#2563eb',\n",
    "    slider_color_dark='#2563eb',\n",
    "    button_shadow='none',\n",
    "    button_shadow_active='none',\n",
    "    button_shadow_hover='none',\n",
    "    \n",
    "    #change button color here\n",
    "    button_primary_background_fill='linear-gradient(45deg, *primary_500, *secondary_200)',\n",
    "    # *primary_300',\n",
    "    button_primary_background_fill_hover='*button_primary_background_fill',\n",
    "    button_primary_background_fill_hover_dark='*button_primary_background_fill',\n",
    "    \n",
    "    #change button text color here\n",
    "    button_primary_text_color='*neutral_900',\n",
    "    \n",
    "    #change button color here\n",
    "    button_secondary_background_fill='*secondary_500',\n",
    "    button_secondary_background_fill_hover='*button_secondary_background_fill',\n",
    "    button_secondary_background_fill_hover_dark='*button_secondary_background_fill',\n",
    "    button_secondary_text_color='*neutral_700',\n",
    "    button_cancel_background_fill_hover='*button_cancel_background_fill',\n",
    "    button_cancel_background_fill_hover_dark='*button_cancel_background_fill'\n",
    ")\n",
    "\n",
    "\n"
   ]
  },
  {
   "cell_type": "code",
   "execution_count": 32,
   "metadata": {},
   "outputs": [
    {
     "name": "stdout",
     "output_type": "stream",
     "text": [
      "Running on local URL:  http://127.0.0.1:7874\n",
      "\n",
      "To create a public link, set `share=True` in `launch()`.\n"
     ]
    },
    {
     "data": {
      "text/html": [
       "<div><iframe src=\"http://127.0.0.1:7874/\" width=\"100%\" height=\"500\" allow=\"autoplay; camera; microphone; clipboard-read; clipboard-write;\" frameborder=\"0\" allowfullscreen></iframe></div>"
      ],
      "text/plain": [
       "<IPython.core.display.HTML object>"
      ]
     },
     "metadata": {},
     "output_type": "display_data"
    },
    {
     "data": {
      "text/plain": []
     },
     "execution_count": 32,
     "metadata": {},
     "output_type": "execute_result"
    }
   ],
   "source": [
    "instructions=\"\"\"\n",
    "# Diabetes Chatbot! \n",
    "## Ask a question through audio recording/text. Receive a response. Translate to selected language.\"\"\"\n",
    "\n",
    "\n",
    "with gr.Blocks(theme=theme) as app2:\n",
    "    \n",
    "    with gr.Row():\n",
    "        gr.Markdown(instructions)\n",
    "        \n",
    "    with gr.Row():\n",
    "        with gr.Column(variant=\"panel\", scale=1):\n",
    "            # gr.Markdown(\"## Step 1: Enter question by recording audio\")\n",
    "            input_audio = gr.Audio(\n",
    "                label=\"Click the microphone to record audio\",\n",
    "                type=\"filepath\",\n",
    "                waveform_options=gr.WaveformOptions(\n",
    "                    waveform_color=\"#01C6FF\",\n",
    "                    waveform_progress_color=\"#0066B4\",\n",
    "                    skip_length=2,\n",
    "                    show_controls=False,)\n",
    "            )\n",
    "            # gr.Markdown(\"## Step 2: Transcribe audio into text\")\n",
    "            transcribe_button = gr.Button(\"Transcribe audio\", variant=\"primary\")\n",
    "            # gr.Markdown(\"## Step 3: Transcribed audio appears here. Or, type your question here.\")\n",
    "            query_text = gr.Textbox(placeholder=\"transcribed audio appears here. Or, type a question here.\")\n",
    "            # gr.Markdown(\"## Submit your question\")\n",
    "            submit_button = gr.Button(\"Submit your question\", variant=\"primary\")\n",
    "            \n",
    "        with gr.Column(variant=\"panel\", scale=2): \n",
    "            response_text = gr.Textbox(label=\"Chatbot response\")\n",
    "            response_speech = gr.Audio(label=\"Chatbot response speech\",\n",
    "                                       waveform_options=gr.WaveformOptions(\n",
    "                                           waveform_color=\"#01C6FF\",\n",
    "                                           waveform_progress_color=\"#0066B4\",\n",
    "                                           skip_length=2,\n",
    "                                           show_controls=False,))\n",
    "            \n",
    "        with gr.Column(variant=\"panel\", scale=2):\n",
    "            language_dropdown = gr.Dropdown(label=\"Click the middle of the dropdown bar to select translation language\",\n",
    "                                            choices=list(language_map.keys()), value=default_language, type='value')\n",
    "            translate_button = gr.Button(\"Translate the response\", variant=\"primary\")\n",
    "            output_translated = gr.Textbox(label=\"Translated text\")\n",
    "            output_translated_speech = gr.Audio(label=\"Translated speech\",\n",
    "                                                waveform_options=gr.WaveformOptions(\n",
    "                                                    waveform_color=\"#01C6FF\",\n",
    "                                                    waveform_progress_color=\"#0066B4\",\n",
    "                                                    skip_length=2,\n",
    "                                                    show_controls=False,))\n",
    "    \n",
    "    with gr.Row():\n",
    "        clear_button = gr.Button(\"Clear All\", variant=\"primary\") \n",
    "                \n",
    "\n",
    "    # Audio transcription\n",
    "    transcribe_button.click(\n",
    "        fn=transcribe_audio_original,\n",
    "        inputs=[input_audio],\n",
    "        outputs=[query_text]\n",
    "    )\n",
    "    \n",
    "    submit_button.click(\n",
    "        fn=submit_question,\n",
    "        inputs=[input_audio, query_text, language_dropdown],\n",
    "        outputs=[response_text, response_speech]\n",
    "    )\n",
    "        \n",
    "    # Translation\n",
    "    translate_button.click(\n",
    "        fn=translate_and_speech,\n",
    "        inputs=[response_text, language_dropdown],\n",
    "        outputs=[output_translated, output_translated_speech]\n",
    "    )\n",
    "        \n",
    "    #Clearing all inputs and outputs\n",
    "    clear_button.click(\n",
    "    fn=clear_inputs,\n",
    "    inputs=[],\n",
    "    outputs=[input_audio, query_text, response_text, response_speech, output_translated, output_translated_speech]\n",
    "    )\n",
    "\n",
    "app2.launch(show_error=True)\n"
   ]
  }
 ],
 "metadata": {
  "kernelspec": {
   "display_name": "base",
   "language": "python",
   "name": "python3"
  },
  "language_info": {
   "codemirror_mode": {
    "name": "ipython",
    "version": 3
   },
   "file_extension": ".py",
   "mimetype": "text/x-python",
   "name": "python",
   "nbconvert_exporter": "python",
   "pygments_lexer": "ipython3",
   "version": "3.11.5"
  }
 },
 "nbformat": 4,
 "nbformat_minor": 2
}
