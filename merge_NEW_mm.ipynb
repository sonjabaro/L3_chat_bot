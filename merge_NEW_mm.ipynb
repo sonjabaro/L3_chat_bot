{
 "cells": [
  {
   "cell_type": "code",
   "execution_count": 3,
   "metadata": {},
   "outputs": [],
   "source": [
    "# pip install langdetect\n",
    "# pip install sentencepiece\n",
    "# pip install boto3\n",
    "# pip install awscli\n",
    "# pip install sacremoses"
   ]
  },
  {
   "cell_type": "code",
   "execution_count": 10,
   "metadata": {},
   "outputs": [],
   "source": [
    "import gradio as gr\n",
    "from transformers import pipeline, AutoTokenizer, TFAutoModelForSeq2SeqLM\n",
    "from dotenv import load_dotenv\n",
    "import os\n",
    "import subprocess\n",
    "import torch\n",
    "#Google Text to Speech\n",
    "from gtts import gTTS\n",
    "import tempfile\n",
    "from langdetect import detect\n",
    "from transformers import MarianMTModel, MarianTokenizer\n",
    "\n",
    "import boto3"
   ]
  },
  {
   "cell_type": "code",
   "execution_count": 29,
   "metadata": {},
   "outputs": [],
   "source": [
    "# import functions from functions file\n",
    "\n",
    "from functions_mm import handle_query, transcribe_audio_original, polly_text_to_speech, voice_map, language_map\n",
    "\n"
   ]
  },
  {
   "cell_type": "code",
   "execution_count": 14,
   "metadata": {},
   "outputs": [],
   "source": [
    "# This function transcribes audio to text using Whisper in the original language it was spoken\n",
    "def transcribe_audio_original(audio_filepath):\n",
    "    try:\n",
    "        transcription_pipeline = pipeline(\"automatic-speech-recognition\", model=\"openai/whisper-large\")\n",
    "        transcription_result = transcription_pipeline(audio_filepath)\n",
    "        transcribed_text = transcription_result['text']\n",
    "        return transcribed_text\n",
    "    except Exception as e:\n",
    "        print(f\"an error occured: {e}\")\n",
    "        return \"Error in transcription\""
   ]
  },
  {
   "cell_type": "code",
   "execution_count": 28,
   "metadata": {},
   "outputs": [],
   "source": [
    "# This function transcribes audio to text and then translates it into the specified language\n",
    "def translate(transcribed_text, target_lang=\"es\"):\n",
    "    try:\n",
    "        #Define the model and tokenizer\n",
    "        src_lang = detect(transcribed_text)\n",
    "        model_name =f\"Helsinki-NLP/opus-mt-{src_lang}-{target_lang}\"\n",
    "        tokenizer = MarianTokenizer.from_pretrained(model_name)\n",
    "        model = MarianMTModel.from_pretrained(model_name)\n",
    "        \n",
    "        #tokenize the text and check if longer than the max length\n",
    "        tokens = tokenizer.encode(transcribed_text, return_tensors=\"pt\", truncation=True)\n",
    "        max_length = tokenizer.model_max_length\n",
    "        total_length = tokens.size(1)\n",
    "        \n",
    "        #initialize the translated text\n",
    "        full_translation = \"\"\n",
    "        \n",
    "        #Process text in chunks if it's too long\n",
    "        for start_index in range(0, total_length, max_length):\n",
    "            end_index = start_index + max_length\n",
    "            \n",
    "            #ensure not to exceed total length\n",
    "            segment_ids = tokens[:,start_index:end_index]\n",
    "            \n",
    "            #generate translation for the segment\n",
    "            translated_tokens = model.generate(segment_ids)\n",
    "            \n",
    "            #decode the translated tokens and append\n",
    "            segment_translation = tokenizer.decode(translated_tokens[0], skip_special_tokens=True)\n",
    "            full_translation += segment_translation + \" \"\n",
    "        \n",
    "        # #generate translation using the model\n",
    "        # translated_tokens = model.generate(**encoded_text)\n",
    "        \n",
    "        # #decode the translated tokens\n",
    "        # translated_text = tokenizer.decode(translated_tokens[0], skip_special_tokens=True)\n",
    "        \n",
    "        return full_translation.strip()\n",
    "        \n",
    "    except Exception as e:\n",
    "        print(f\"An error occurred: {e}\")\n",
    "        return \"Error in transcription or translation\""
   ]
  },
  {
   "cell_type": "code",
   "execution_count": 23,
   "metadata": {},
   "outputs": [],
   "source": [
    "default_language = \"English\"\n",
    "\n",
    "#Define combined function to feed into Gradio app\n",
    "def combined_function (audio_filepath=None, typed_text=None, target_lang=default_language):\n",
    "    \n",
    "    #Determine source of text: audio transctiption or direct text input\n",
    "    if audio_filepath and typed_text:\n",
    "        return \"Please use only one input method at a time\", None\n",
    "    \n",
    "    if not audio_filepath and not typed_text:\n",
    "        return \"Please provide input by typing or speaking\", None\n",
    "    \n",
    "    response_speech = None\n",
    "    \n",
    "    if typed_text:\n",
    "        #submit through handle_query function\n",
    "        # query_text = typed_text\n",
    "        detected_lang_code = detect(typed_text)\n",
    "        response_text = handle_query(typed_text)\n",
    "        response_speech = polly_text_to_speech(response_text, detected_lang_code)\n",
    "        \n",
    "    \n",
    "    elif audio_filepath:\n",
    "        #transcribe audio to text in background\n",
    "        query_text = transcribe_audio_original(audio_filepath)\n",
    "        detected_lang_code = detect(query_text)\n",
    "        response_text = handle_query(query_text)\n",
    "        response_speech = polly_text_to_speech(response_text, detected_lang_code)\n",
    "        \n",
    "    \n",
    "    if not response_speech:\n",
    "        response_speech = \"No audio available\"\n",
    "    \n",
    "    \n",
    "    #Map detected language code to language name\n",
    "    # detected_lang = [key for key, value in language_map.items() if value == detected_lang_code][0]\n",
    "    \n",
    "    \n",
    "    return response_text, response_speech\n"
   ]
  },
  {
   "cell_type": "code",
   "execution_count": 26,
   "metadata": {},
   "outputs": [],
   "source": [
    "def translate_and_speech(response_text=None, target_lang=default_language):\n",
    "    \n",
    "        \n",
    "    #Detect language of input text\n",
    "    detected_lang_code = detect(response_text)\n",
    "    detected_lang = [key for key, value in language_map.items() if value == detected_lang_code][0]\n",
    "    \n",
    "    #Check if the language is specified. Default to English if not.\n",
    "    target_lang_code = language_map.get(target_lang, \"en\")\n",
    "    \n",
    "    #Process text: translate \n",
    "    #Check if the detected language and target language are the same\n",
    "    if detected_lang == target_lang:\n",
    "        translated_response = response_text\n",
    "    else:\n",
    "        translated_response = translate(response_text, target_lang_code)\n",
    "    \n",
    "    #convert to speech\n",
    "    translated_speech = polly_text_to_speech(translated_response, target_lang_code)\n",
    "    \n",
    "    return  translated_response, translated_speech"
   ]
  },
  {
   "cell_type": "code",
   "execution_count": 17,
   "metadata": {},
   "outputs": [],
   "source": [
    "# Load environment variables.\n",
    "load_dotenv()\n",
    "\n",
    "# Set the model name for our LLMs.\n",
    "OPENAI_MODEL = \"gpt-3.5-turbo\"\n",
    "# Store the API key in a variable.\n",
    "OPENAI_API_KEY = os.getenv(\"OPENAI_API_KEY\")"
   ]
  },
  {
   "cell_type": "code",
   "execution_count": 18,
   "metadata": {},
   "outputs": [],
   "source": [
    "# list of languages and their codes for dropdown\n",
    "languages = gr.Dropdown(label=\"Click in the middle of the dropdown bar to select translation language\", choices=list(language_map.keys()))"
   ]
  },
  {
   "cell_type": "code",
   "execution_count": 8,
   "metadata": {},
   "outputs": [],
   "source": [
    "# Function to clear out all inputs\n",
    "\n",
    "def clear_inputs():\n",
    "    return None, None, None, None, None, None"
   ]
  },
  {
   "cell_type": "code",
   "execution_count": 19,
   "metadata": {},
   "outputs": [],
   "source": [
    "default_language = \"English\""
   ]
  },
  {
   "cell_type": "code",
   "execution_count": 30,
   "metadata": {},
   "outputs": [
    {
     "name": "stdout",
     "output_type": "stream",
     "text": [
      "Running on local URL:  http://127.0.0.1:7867\n",
      "Running on public URL: https://937f7cf3331dde3fa5.gradio.live\n",
      "\n",
      "This share link expires in 72 hours. For free permanent hosting and GPU upgrades, run `gradio deploy` from Terminal to deploy to Spaces (https://huggingface.co/spaces)\n"
     ]
    },
    {
     "data": {
      "text/html": [
       "<div><iframe src=\"https://937f7cf3331dde3fa5.gradio.live\" width=\"100%\" height=\"500\" allow=\"autoplay; camera; microphone; clipboard-read; clipboard-write;\" frameborder=\"0\" allowfullscreen></iframe></div>"
      ],
      "text/plain": [
       "<IPython.core.display.HTML object>"
      ]
     },
     "metadata": {},
     "output_type": "display_data"
    },
    {
     "data": {
      "text/plain": []
     },
     "execution_count": 30,
     "metadata": {},
     "output_type": "execute_result"
    }
   ],
   "source": [
    "instructions = \"\"\"\n",
    "# Diabetes Chatbot\n",
    "### Step 1: Record your audio OR input text (NOT both!)\n",
    "### Step 2: Would you like response in new language? Choose your language  \n",
    "### Step 3: Submit question\n",
    "### Step 4: Translate response\n",
    "### Step 5: Clear inputs and start fresh\n",
    "\"\"\"\n",
    "\n",
    "\n",
    "with gr.Blocks() as app2:\n",
    "    \n",
    "    with gr.Row():\n",
    "        gr.Markdown(instructions)\n",
    "        \n",
    "    with gr.Row():\n",
    "        input_audio = gr.Audio(\n",
    "            label=\"Ask a question about Diabetes\",\n",
    "            type=\"filepath\")\n",
    "        language_dropdown = gr.Dropdown(label=\"Click the middle of the dropdown bar to select translation language\",\n",
    "                                        choices=list(language_map.keys()), value=default_language, type='value')\n",
    "        \n",
    "    with gr.Row():\n",
    "        submit_button = gr.Button(\"Submit your question\")\n",
    "        translate_button = gr.Button(\"Translate the response\")\n",
    "        clear_button = gr.Button(\"Clear All\")\n",
    "    \n",
    "    #Divide the screen horizontally into 2 columns\n",
    "    with gr.Row():\n",
    "            #This column will be on the left side of screen\n",
    "            with gr.Column():\n",
    "                query_text = gr.Textbox(label=\"Type your question here\")\n",
    "                # output_original_speech = gr.Audio(label=\"Text to speech here\")\n",
    "            \n",
    "            with gr.Column():\n",
    "                response_text = gr.Textbox(label=\"Chatbot response\")\n",
    "                response_speech = gr.Audio(label=\"Chatbot response speech\")    \n",
    "        \n",
    "            #This column will be on the right side of screen\n",
    "            with gr.Column():    \n",
    "                output_translated = gr.Textbox(label=\"Translated text\")\n",
    "                output_translated_speech = gr.Audio(label=\"Translated speech\")\n",
    "\n",
    "    # Audio transcription\n",
    "    submit_button.click(\n",
    "        fn=combined_function,\n",
    "        inputs=[input_audio, query_text, language_dropdown],\n",
    "        outputs=[response_text, response_speech]\n",
    "    )\n",
    "        \n",
    "    # Translation\n",
    "    translate_button.click(\n",
    "        fn=translate_and_speech,\n",
    "        inputs=[response_text, language_dropdown],\n",
    "        outputs=[output_translated, output_translated_speech]\n",
    "    )\n",
    "        \n",
    "    #Clearing all inputs and outputs\n",
    "    clear_button.click(\n",
    "    fn=clear_inputs,\n",
    "    inputs=[],\n",
    "    outputs=[input_audio, query_text, response_text, response_speech, output_translated, output_translated_speech]\n",
    "    )\n",
    "\n",
    "app2.launch(show_error=True, share=True)\n",
    "\n",
    "\n",
    "\n",
    "\n"
   ]
  }
 ],
 "metadata": {
  "kernelspec": {
   "display_name": "base",
   "language": "python",
   "name": "python3"
  },
  "language_info": {
   "codemirror_mode": {
    "name": "ipython",
    "version": 3
   },
   "file_extension": ".py",
   "mimetype": "text/x-python",
   "name": "python",
   "nbconvert_exporter": "python",
   "pygments_lexer": "ipython3",
   "version": "3.11.5"
  }
 },
 "nbformat": 4,
 "nbformat_minor": 2
}
