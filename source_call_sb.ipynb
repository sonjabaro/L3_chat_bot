{
 "cells": [
  {
   "cell_type": "code",
   "execution_count": 1,
   "metadata": {},
   "outputs": [],
   "source": [
    "from langchain_openai import ChatOpenAI\n",
    "from dotenv import load_dotenv\n",
    "import os"
   ]
  },
  {
   "cell_type": "code",
   "execution_count": 2,
   "metadata": {},
   "outputs": [],
   "source": [
    "from langchain.schema import AIMessage, HumanMessage\n",
    "import gradio as gr"
   ]
  },
  {
   "cell_type": "code",
   "execution_count": 3,
   "metadata": {},
   "outputs": [],
   "source": [
    "load_dotenv()\n",
    "\n",
    "# Set the model name for our LLMs.\n",
    "OPENAI_MODEL = \"gpt-3.5-turbo\"\n",
    "# Store the API key in a variable.\n",
    "OPENAI_API_KEY = os.getenv(\"OPENAI_API_KEY\")\n"
   ]
  },
  {
   "cell_type": "code",
   "execution_count": 4,
   "metadata": {},
   "outputs": [],
   "source": [
    "# Additional imports for loading PDF documents and QA chain.\n",
    "from langchain.document_loaders import PyPDFLoader\n",
    "from langchain.chains.question_answering import load_qa_chain"
   ]
  },
  {
   "cell_type": "code",
   "execution_count": 5,
   "metadata": {},
   "outputs": [],
   "source": [
    "# Additional imports for loading Wikipedia content and QA chain.\n",
    "from langchain_community.document_loaders import WikipediaLoader\n",
    "from langchain.chains.question_answering import load_qa_chain"
   ]
  },
  {
   "cell_type": "code",
   "execution_count": null,
   "metadata": {},
   "outputs": [],
   "source": [
    "# Create the PDF loader and load the document.\n",
    "#pdf_loader = PyPDFLoader('https://static.bc-edx.com/ai/ail-v-1-0/m22/lesson_1/datasets/Resume.pdf')\n",
    "#documents = pdf_loader.load()\n",
    "\n",
    "# Initialize the model.\n",
    "#llm = ChatOpenAI(openai_api_key=OPENAI_API_KEY, model_name=OPENAI_MODEL, temperature=0.0)\n",
    "\n",
    "# Create the QA chain using the LLM.\n",
    "#chain = load_qa_chain(llm)\n",
    "\n",
    "# Define a query as a string.\n",
    "#query = 'Could I write to Jane Doe in Spanish and expect her to understand?'\n",
    "\n",
    "# Pass the documents and the query to the chain, and print the result.\n",
    "#result = chain.invoke({\"input_documents\": documents, \"question\": query})\n",
    "#print(result[\"output_text\"])"
   ]
  },
  {
   "cell_type": "code",
   "execution_count": 6,
   "metadata": {},
   "outputs": [],
   "source": [
    "#Setting the Model\n",
    "\n",
    "# Initialize the model with your OpenAI API key\n",
    "load_dotenv()\n",
    "\n",
    "# Set the model name for our LLMs.\n",
    "OPENAI_MODEL = \"gpt-3.5-turbo\"\n",
    "# Store the API key in a variable.\n",
    "OPENAI_API_KEY = os.getenv(\"OPENAI_API_KEY\")\n",
    "OPENAI_MODEL = 'gpt-3.5-turbo'  # We're using GPT 3.5 turbo as we don't really need GPT 4 for this as the info doesn't change that much. It provides what we need at a lower cost.\n",
    "#Instantiating the llm we'll use and the arguments to pass\n",
    "llm = ChatOpenAI(openai_api_key=OPENAI_API_KEY, model_name=OPENAI_MODEL, temperature=0.0)\n",
    "\n",
    "# Define the wikipedia topic as a string.\n",
    "wiki_topic = \"diabetes\"\n",
    "\n",
    "# Load the wikipedia results as documents, using a max of 2.\n",
    "#included error handling- unable to load documents\n",
    "try:\n",
    "    documents = WikipediaLoader(query=wiki_topic, load_max_docs=2, load_all_available_meta=True).load()\n",
    "except Exception as e:\n",
    "    print(\"Failed to load documents:\", str(e))\n",
    "    documents = []\n",
    "# Create the QA chain using the LLM.\n",
    "chain = load_qa_chain(llm)"
   ]
  },
  {
   "cell_type": "code",
   "execution_count": 7,
   "metadata": {},
   "outputs": [],
   "source": [
    "\n",
    "#Define the function to call the LLM\n",
    "def handle_query(user_query):\n",
    "    if not documents:\n",
    "        return \"Source not loading info; please try again later.\"\n",
    "\n",
    "    if user_query.lower() == 'quit':\n",
    "        return \"Goodbye!\"\n",
    "\n",
    "    try:\n",
    "        # Pass the documents and the user's query to the chain, and return the result.\n",
    "        result = chain.invoke({\"input_documents\": documents, \"question\": user_query})\n",
    "        if result[\"output_text\"].strip():\n",
    "            return result[\"output_text\"]\n",
    "        else:\n",
    "            return \"I'm sorry. I'm not finding an good answer for you. Please rephrase your question or try another question.\"\n",
    "    except Exception as e:\n",
    "        return \"An error occurred while searching for the answer: \" + str(e)\n",
    "\n",
    "\n"
   ]
  },
  {
   "cell_type": "markdown",
   "metadata": {},
   "source": [
    "BELOW CODE IS SIMPLE GRADIO AP - NO HISTORY - "
   ]
  },
  {
   "cell_type": "code",
   "execution_count": null,
   "metadata": {},
   "outputs": [],
   "source": [
    "# Create a Gradio interface\n",
    "iface = gr.Interface(\n",
    "    fn=handle_query,  # Callback function\n",
    "    inputs=gr.Textbox(lines=2, placeholder=\"What is your question about diabetes?\"),\n",
    "    outputs=gr.Textbox(),\n",
    "    title=\"Diabetes Information Query\",\n",
    "    description=\"Enter your question about diabetes and get information from Wikipedia.\"\n",
    ")\n",
    "\n",
    "# Run the Gradio app\n",
    "iface.launch()"
   ]
  },
  {
   "cell_type": "markdown",
   "metadata": {},
   "source": [
    "BELOW CODE BLOCK  INCLUDES THE HANDLE QUERY FUNCTION AND HAS HISTORY IN APP UI"
   ]
  },
  {
   "cell_type": "code",
   "execution_count": 8,
   "metadata": {},
   "outputs": [
    {
     "name": "stdout",
     "output_type": "stream",
     "text": [
      "Running on local URL:  http://127.0.0.1:7860\n",
      "\n",
      "To create a public link, set `share=True` in `launch()`.\n"
     ]
    },
    {
     "data": {
      "text/html": [
       "<div><iframe src=\"http://127.0.0.1:7860/\" width=\"100%\" height=\"500\" allow=\"autoplay; camera; microphone; clipboard-read; clipboard-write;\" frameborder=\"0\" allowfullscreen></iframe></div>"
      ],
      "text/plain": [
       "<IPython.core.display.HTML object>"
      ]
     },
     "metadata": {},
     "output_type": "display_data"
    },
    {
     "data": {
      "text/plain": []
     },
     "execution_count": 8,
     "metadata": {},
     "output_type": "execute_result"
    }
   ],
   "source": [
    "# query function with history\n",
    "\n",
    "def handle_query(user_query, history):\n",
    "    if not documents:\n",
    "        return \"Source not loading info; please try again later.\", history\n",
    "\n",
    "    if user_query.lower() == 'quit':\n",
    "        return \"Goodbye!\", history\n",
    "\n",
    "    try:\n",
    "        result = chain.invoke({\"input_documents\": documents, \"question\": user_query})\n",
    "        ai_response = result[\"output_text\"].strip() if result[\"output_text\"].strip() else \"I'm sorry. No good answer found. Please try another question.\"\n",
    "        updated_history = history + [(user_query, ai_response)]\n",
    "        return ai_response, updated_history\n",
    "    except Exception as e:\n",
    "        return f\"An error occurred: {str(e)}\", history\n",
    "\n",
    "with gr.Blocks() as app:\n",
    "    with gr.Row():\n",
    "        user_input = gr.Textbox(label=\"Enter your question about diabetes\", lines=2, placeholder=\"What is your question about diabetes?\")\n",
    "        submit_button = gr.Button(\"Submit\")\n",
    "    output = gr.Textbox(label=\"AI Response\")\n",
    "    history_display = gr.Textbox(label=\"Conversation History\", visible=True) # Set visible to True to show the history\n",
    "\n",
    "    history_state = gr.State()  # Initialize state; no default value needed\n",
    "\n",
    "    def update_interface(user_query, history):\n",
    "        if history is None:\n",
    "            history = []  # Ensure history starts as an empty list\n",
    "\n",
    "        response, updated_history = handle_query(user_query, history)\n",
    "        return response, updated_history, updated_history  # Update output, history display, and state\n",
    "\n",
    "    submit_button.click(\n",
    "        fn=update_interface,\n",
    "        inputs=[user_input, history_state],\n",
    "        outputs=[output, history_display, history_state]\n",
    "    )\n",
    "\n",
    "app.launch()\n"
   ]
  }
 ],
 "metadata": {
  "kernelspec": {
   "display_name": "base",
   "language": "python",
   "name": "python3"
  },
  "language_info": {
   "codemirror_mode": {
    "name": "ipython",
    "version": 3
   },
   "file_extension": ".py",
   "mimetype": "text/x-python",
   "name": "python",
   "nbconvert_exporter": "python",
   "pygments_lexer": "ipython3",
   "version": "3.11.5"
  }
 },
 "nbformat": 4,
 "nbformat_minor": 2
}
