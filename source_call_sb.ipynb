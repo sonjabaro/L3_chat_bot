{
 "cells": [
  {
   "cell_type": "code",
   "execution_count": 1,
   "metadata": {},
   "outputs": [],
   "source": [
    "from langchain_openai import ChatOpenAI\n",
    "from dotenv import load_dotenv\n",
    "import os"
   ]
  },
  {
   "cell_type": "code",
   "execution_count": 2,
   "metadata": {},
   "outputs": [],
   "source": [
    "from langchain.schema import AIMessage, HumanMessage\n",
    "import gradio as gr"
   ]
  },
  {
   "cell_type": "code",
   "execution_count": 3,
   "metadata": {},
   "outputs": [],
   "source": [
    "load_dotenv()\n",
    "\n",
    "# Set the model name for our LLMs.\n",
    "OPENAI_MODEL = \"gpt-3.5-turbo\"\n",
    "# Store the API key in a variable.\n",
    "OPENAI_API_KEY = os.getenv(\"OPENAI_API_KEY\")\n"
   ]
  },
  {
   "cell_type": "code",
   "execution_count": 4,
   "metadata": {},
   "outputs": [],
   "source": [
    "# Additional imports for loading PDF documents and QA chain.\n",
    "from langchain.document_loaders import PyPDFLoader\n",
    "from langchain.chains.question_answering import load_qa_chain"
   ]
  },
  {
   "cell_type": "code",
   "execution_count": 5,
   "metadata": {},
   "outputs": [],
   "source": [
    "# Additional imports for loading Wikipedia content and QA chain.\n",
    "from langchain_community.document_loaders import WikipediaLoader\n",
    "from langchain.chains.question_answering import load_qa_chain"
   ]
  },
  {
   "cell_type": "code",
   "execution_count": null,
   "metadata": {},
   "outputs": [],
   "source": [
    "# Create the PDF loader and load the document.\n",
    "#pdf_loader = PyPDFLoader('https://static.bc-edx.com/ai/ail-v-1-0/m22/lesson_1/datasets/Resume.pdf')\n",
    "#documents = pdf_loader.load()\n",
    "\n",
    "# Initialize the model.\n",
    "#llm = ChatOpenAI(openai_api_key=OPENAI_API_KEY, model_name=OPENAI_MODEL, temperature=0.0)\n",
    "\n",
    "# Create the QA chain using the LLM.\n",
    "#chain = load_qa_chain(llm)\n",
    "\n",
    "# Define a query as a string.\n",
    "#query = 'Could I write to Jane Doe in Spanish and expect her to understand?'\n",
    "\n",
    "# Pass the documents and the query to the chain, and print the result.\n",
    "#result = chain.invoke({\"input_documents\": documents, \"question\": query})\n",
    "#print(result[\"output_text\"])"
   ]
  },
  {
   "cell_type": "code",
   "execution_count": 6,
   "metadata": {},
   "outputs": [],
   "source": [
    "#Setting the Model\n",
    "\n",
    "# Initialize the model with your OpenAI API key\n",
    "load_dotenv()\n",
    "\n",
    "# Set the model name for our LLMs.\n",
    "OPENAI_MODEL = \"gpt-3.5-turbo\"\n",
    "# Store the API key in a variable.\n",
    "OPENAI_API_KEY = os.getenv(\"OPENAI_API_KEY\")\n",
    "OPENAI_MODEL = 'gpt-3.5-turbo'  # We're using GPT 3.5 turbo as we don't really need GPT 4 for this as the info doesn't change that much. It provides what we need at a lower cost.\n",
    "#Instantiating the llm we'll use and the arguments to pass\n",
    "llm = ChatOpenAI(openai_api_key=OPENAI_API_KEY, model_name=OPENAI_MODEL, temperature=0.0)\n",
    "\n",
    "# Define the wikipedia topic as a string.\n",
    "wiki_topic = \"diabetes\"\n",
    "\n",
    "# Load the wikipedia results as documents, using a max of 2.\n",
    "#included error handling- unable to load documents\n",
    "try:\n",
    "    documents = WikipediaLoader(query=wiki_topic, load_max_docs=2, load_all_available_meta=True).load()\n",
    "except Exception as e:\n",
    "    print(\"Failed to load documents:\", str(e))\n",
    "    documents = []\n",
    "# Create the QA chain using the LLM.\n",
    "chain = load_qa_chain(llm)"
   ]
  },
  {
   "cell_type": "code",
   "execution_count": 7,
   "metadata": {},
   "outputs": [
    {
     "name": "stdout",
     "output_type": "stream",
     "text": [
      "Running on local URL:  http://127.0.0.1:7860\n",
      "\n",
      "To create a public link, set `share=True` in `launch()`.\n"
     ]
    },
    {
     "data": {
      "text/html": [
       "<div><iframe src=\"http://127.0.0.1:7860/\" width=\"100%\" height=\"500\" allow=\"autoplay; camera; microphone; clipboard-read; clipboard-write;\" frameborder=\"0\" allowfullscreen></iframe></div>"
      ],
      "text/plain": [
       "<IPython.core.display.HTML object>"
      ]
     },
     "metadata": {},
     "output_type": "display_data"
    },
    {
     "data": {
      "text/plain": []
     },
     "execution_count": 7,
     "metadata": {},
     "output_type": "execute_result"
    }
   ],
   "source": [
    "\n",
    "#Define the function to call the LLM\n",
    "def handle_query(user_query):\n",
    "    if not documents:\n",
    "        return \"Source not loading info; please try again later.\"\n",
    "\n",
    "    if user_query.lower() == 'quit':\n",
    "        return \"Goodbye!\"\n",
    "\n",
    "    try:\n",
    "        # Pass the documents and the user's query to the chain, and return the result.\n",
    "        result = chain.invoke({\"input_documents\": documents, \"question\": user_query})\n",
    "        if result[\"output_text\"].strip():\n",
    "            return result[\"output_text\"]\n",
    "        else:\n",
    "            return \"I'm sorry. I'm not finding an good answer for you. Please rephrase your question or try another question.\"\n",
    "    except Exception as e:\n",
    "        return \"An error occurred while searching for the answer: \" + str(e)\n",
    "\n",
    "# Create a Gradio interface\n",
    "iface = gr.Interface(\n",
    "    fn=handle_query,  # Callback function\n",
    "    inputs=gr.Textbox(lines=2, placeholder=\"What is your question about diabetes?\"),\n",
    "    outputs=gr.Textbox(),\n",
    "    title=\"Diabetes Information Query\",\n",
    "    description=\"Enter your question about diabetes and get information from Wikipedia.\"\n",
    ")\n",
    "\n",
    "# Run the Gradio app\n",
    "iface.launch()\n"
   ]
  },
  {
   "cell_type": "code",
   "execution_count": null,
   "metadata": {},
   "outputs": [],
   "source": [
    "#Define the function to call the LLM\n",
    "\n",
    "# Initial empty history\n",
    "initial_history = []\n",
    "def handle_query(user_query, history):\n",
    "    if not documents:\n",
    "        return \"Source not loading info; please try again later.\", history\n",
    "\n",
    "    if user_query.lower() == 'quit':\n",
    "        return \"Goodbye!\"\n",
    "\n",
    "    try:\n",
    "        # Pass the documents and the user's query to the chain, and return the result.\n",
    "        result = chain.invoke({\"input_documents\": documents, \"question\": user_query})\n",
    "        ai_response = result[\"output_text\"].strip() if result [\"output_text\"].strip() else \"I'm sorry. No good answer found.  Please try another question.\"\n",
    "        \n",
    "        #update the history with this round\n",
    "        updated_history = history +[(user_query,ai_response)]\n",
    "        return ai_response, updated_history\n",
    "    except Exception as e:\n",
    "        return f\"An error occurred :{str(e)} \" , history\n",
    "\n",
    "# Create a Gradio interface\n",
    "iface = gr.Interface(\n",
    "    fn=handle_query,  # Callback function\n",
    "    inputs=gr.Textbox(lines=2, placeholder=\"What is your question about diabetes?\"),\n",
    "    outputs=[gr.Textbox(), gr.State()]\n",
    "    title=\"Diabetes Information Query\",\n",
    "    description=\"Enter your question about diabetes and get information from Wikipedia.\"\n",
    ")\n",
    "\n",
    "# Run the Gradio app\n",
    "iface.launch(state=initial_history)"
   ]
  },
  {
   "cell_type": "code",
   "execution_count": 18,
   "metadata": {},
   "outputs": [
    {
     "name": "stdout",
     "output_type": "stream",
     "text": [
      "Running on local URL:  http://127.0.0.1:7869\n",
      "\n",
      "To create a public link, set `share=True` in `launch()`.\n"
     ]
    },
    {
     "data": {
      "text/html": [
       "<div><iframe src=\"http://127.0.0.1:7869/\" width=\"100%\" height=\"500\" allow=\"autoplay; camera; microphone; clipboard-read; clipboard-write;\" frameborder=\"0\" allowfullscreen></iframe></div>"
      ],
      "text/plain": [
       "<IPython.core.display.HTML object>"
      ]
     },
     "metadata": {},
     "output_type": "display_data"
    },
    {
     "data": {
      "text/plain": []
     },
     "execution_count": 18,
     "metadata": {},
     "output_type": "execute_result"
    },
    {
     "name": "stderr",
     "output_type": "stream",
     "text": [
      "Traceback (most recent call last):\n",
      "  File \"/Users/sonjambaro/anaconda3/lib/python3.11/site-packages/gradio/queueing.py\", line 527, in process_events\n",
      "    response = await route_utils.call_process_api(\n",
      "               ^^^^^^^^^^^^^^^^^^^^^^^^^^^^^^^^^^^\n",
      "  File \"/Users/sonjambaro/anaconda3/lib/python3.11/site-packages/gradio/route_utils.py\", line 261, in call_process_api\n",
      "    output = await app.get_blocks().process_api(\n",
      "             ^^^^^^^^^^^^^^^^^^^^^^^^^^^^^^^^^^^\n",
      "  File \"/Users/sonjambaro/anaconda3/lib/python3.11/site-packages/gradio/blocks.py\", line 1786, in process_api\n",
      "    result = await self.call_function(\n",
      "             ^^^^^^^^^^^^^^^^^^^^^^^^^\n",
      "  File \"/Users/sonjambaro/anaconda3/lib/python3.11/site-packages/gradio/blocks.py\", line 1336, in call_function\n",
      "    prediction = await fn(*processed_input)\n",
      "                 ^^^^^^^^^^^^^^^^^^^^^^^^^^\n",
      "  File \"/Users/sonjambaro/anaconda3/lib/python3.11/site-packages/gradio/utils.py\", line 726, in async_wrapper\n",
      "    response = await f(*args, **kwargs)\n",
      "               ^^^^^^^^^^^^^^^^^^^^^^^^\n",
      "  File \"/Users/sonjambaro/anaconda3/lib/python3.11/site-packages/gradio/chat_interface.py\", line 507, in _submit_fn\n",
      "    response = await anyio.to_thread.run_sync(\n",
      "               ^^^^^^^^^^^^^^^^^^^^^^^^^^^^^^^\n",
      "  File \"/Users/sonjambaro/anaconda3/lib/python3.11/site-packages/anyio/to_thread.py\", line 28, in run_sync\n",
      "    return await get_asynclib().run_sync_in_worker_thread(func, *args, cancellable=cancellable,\n",
      "           ^^^^^^^^^^^^^^^^^^^^^^^^^^^^^^^^^^^^^^^^^^^^^^^^^^^^^^^^^^^^^^^^^^^^^^^^^^^^^^^^^^^^\n",
      "  File \"/Users/sonjambaro/anaconda3/lib/python3.11/site-packages/anyio/_backends/_asyncio.py\", line 818, in run_sync_in_worker_thread\n",
      "    return await future\n",
      "           ^^^^^^^^^^^^\n",
      "  File \"/Users/sonjambaro/anaconda3/lib/python3.11/site-packages/anyio/_backends/_asyncio.py\", line 754, in run\n",
      "    result = context.run(func, *args)\n",
      "             ^^^^^^^^^^^^^^^^^^^^^^^^\n",
      "  File \"/var/folders/jj/dm8tbcj11273_w688qyz4jmh0000gp/T/ipykernel_9340/1497989252.py\", line 7, in predict\n",
      "    gpt_response = llm(history_langchain_format)\n",
      "                   ^^^^^^^^^^^^^^^^^^^^^^^^^^^^^\n",
      "  File \"/Users/sonjambaro/anaconda3/lib/python3.11/site-packages/langchain_core/_api/deprecation.py\", line 145, in warning_emitting_wrapper\n",
      "    return wrapped(*args, **kwargs)\n",
      "           ^^^^^^^^^^^^^^^^^^^^^^^^\n",
      "  File \"/Users/sonjambaro/anaconda3/lib/python3.11/site-packages/langchain_core/language_models/chat_models.py\", line 798, in __call__\n",
      "    generation = self.generate(\n",
      "                 ^^^^^^^^^^^^^^\n",
      "  File \"/Users/sonjambaro/anaconda3/lib/python3.11/site-packages/langchain_core/language_models/chat_models.py\", line 415, in generate\n",
      "    raise e\n",
      "  File \"/Users/sonjambaro/anaconda3/lib/python3.11/site-packages/langchain_core/language_models/chat_models.py\", line 405, in generate\n",
      "    self._generate_with_cache(\n",
      "  File \"/Users/sonjambaro/anaconda3/lib/python3.11/site-packages/langchain_core/language_models/chat_models.py\", line 624, in _generate_with_cache\n",
      "    result = self._generate(\n",
      "             ^^^^^^^^^^^^^^^\n",
      "  File \"/Users/sonjambaro/anaconda3/lib/python3.11/site-packages/langchain_community/chat_models/openai.py\", line 441, in _generate\n",
      "    response = self.completion_with_retry(\n",
      "               ^^^^^^^^^^^^^^^^^^^^^^^^^^^\n",
      "  File \"/Users/sonjambaro/anaconda3/lib/python3.11/site-packages/langchain_community/chat_models/openai.py\", line 356, in completion_with_retry\n",
      "    return self.client.create(**kwargs)\n",
      "           ^^^^^^^^^^^^^^^^^^^^^^^^^^^^\n",
      "  File \"/Users/sonjambaro/anaconda3/lib/python3.11/site-packages/openai/_utils/_utils.py\", line 275, in wrapper\n",
      "    return func(*args, **kwargs)\n",
      "           ^^^^^^^^^^^^^^^^^^^^^\n",
      "  File \"/Users/sonjambaro/anaconda3/lib/python3.11/site-packages/openai/resources/chat/completions.py\", line 667, in create\n",
      "    return self._post(\n",
      "           ^^^^^^^^^^^\n",
      "  File \"/Users/sonjambaro/anaconda3/lib/python3.11/site-packages/openai/_base_client.py\", line 1213, in post\n",
      "    return cast(ResponseT, self.request(cast_to, opts, stream=stream, stream_cls=stream_cls))\n",
      "                           ^^^^^^^^^^^^^^^^^^^^^^^^^^^^^^^^^^^^^^^^^^^^^^^^^^^^^^^^^^^^^^^^^\n",
      "  File \"/Users/sonjambaro/anaconda3/lib/python3.11/site-packages/openai/_base_client.py\", line 902, in request\n",
      "    return self._request(\n",
      "           ^^^^^^^^^^^^^^\n",
      "  File \"/Users/sonjambaro/anaconda3/lib/python3.11/site-packages/openai/_base_client.py\", line 993, in _request\n",
      "    raise self._make_status_error_from_response(err.response) from None\n",
      "openai.AuthenticationError: Error code: 401 - {'error': {'message': 'Incorrect API key provided: sk-.... You can find your API key at https://platform.openai.com/account/api-keys.', 'type': 'invalid_request_error', 'param': None, 'code': 'invalid_api_key'}}\n"
     ]
    }
   ],
   "source": []
  },
  {
   "cell_type": "code",
   "execution_count": 17,
   "metadata": {},
   "outputs": [
    {
     "name": "stderr",
     "output_type": "stream",
     "text": [
      "/Users/sonjambaro/anaconda3/lib/python3.11/site-packages/langchain_core/_api/deprecation.py:117: LangChainDeprecationWarning: The class `langchain_community.chat_models.openai.ChatOpenAI` was deprecated in langchain-community 0.0.10 and will be removed in 0.2.0. An updated version of the class exists in the langchain-openai package and should be used instead. To use it run `pip install -U langchain-openai` and import as `from langchain_openai import ChatOpenAI`.\n",
      "  warn_deprecated(\n"
     ]
    },
    {
     "name": "stdout",
     "output_type": "stream",
     "text": [
      "Running on local URL:  http://127.0.0.1:7868\n",
      "\n",
      "To create a public link, set `share=True` in `launch()`.\n"
     ]
    },
    {
     "data": {
      "text/html": [
       "<div><iframe src=\"http://127.0.0.1:7868/\" width=\"100%\" height=\"500\" allow=\"autoplay; camera; microphone; clipboard-read; clipboard-write;\" frameborder=\"0\" allowfullscreen></iframe></div>"
      ],
      "text/plain": [
       "<IPython.core.display.HTML object>"
      ]
     },
     "metadata": {},
     "output_type": "display_data"
    },
    {
     "data": {
      "text/plain": []
     },
     "execution_count": 17,
     "metadata": {},
     "output_type": "execute_result"
    },
    {
     "name": "stderr",
     "output_type": "stream",
     "text": [
      "/Users/sonjambaro/anaconda3/lib/python3.11/site-packages/langchain_core/_api/deprecation.py:117: LangChainDeprecationWarning: The function `__call__` was deprecated in LangChain 0.1.7 and will be removed in 0.2.0. Use invoke instead.\n",
      "  warn_deprecated(\n",
      "Traceback (most recent call last):\n",
      "  File \"/Users/sonjambaro/anaconda3/lib/python3.11/site-packages/gradio/queueing.py\", line 527, in process_events\n",
      "    response = await route_utils.call_process_api(\n",
      "               ^^^^^^^^^^^^^^^^^^^^^^^^^^^^^^^^^^^\n",
      "  File \"/Users/sonjambaro/anaconda3/lib/python3.11/site-packages/gradio/route_utils.py\", line 261, in call_process_api\n",
      "    output = await app.get_blocks().process_api(\n",
      "             ^^^^^^^^^^^^^^^^^^^^^^^^^^^^^^^^^^^\n",
      "  File \"/Users/sonjambaro/anaconda3/lib/python3.11/site-packages/gradio/blocks.py\", line 1786, in process_api\n",
      "    result = await self.call_function(\n",
      "             ^^^^^^^^^^^^^^^^^^^^^^^^^\n",
      "  File \"/Users/sonjambaro/anaconda3/lib/python3.11/site-packages/gradio/blocks.py\", line 1336, in call_function\n",
      "    prediction = await fn(*processed_input)\n",
      "                 ^^^^^^^^^^^^^^^^^^^^^^^^^^\n",
      "  File \"/Users/sonjambaro/anaconda3/lib/python3.11/site-packages/gradio/utils.py\", line 726, in async_wrapper\n",
      "    response = await f(*args, **kwargs)\n",
      "               ^^^^^^^^^^^^^^^^^^^^^^^^\n",
      "  File \"/Users/sonjambaro/anaconda3/lib/python3.11/site-packages/gradio/chat_interface.py\", line 507, in _submit_fn\n",
      "    response = await anyio.to_thread.run_sync(\n",
      "               ^^^^^^^^^^^^^^^^^^^^^^^^^^^^^^^\n",
      "  File \"/Users/sonjambaro/anaconda3/lib/python3.11/site-packages/anyio/to_thread.py\", line 28, in run_sync\n",
      "    return await get_asynclib().run_sync_in_worker_thread(func, *args, cancellable=cancellable,\n",
      "           ^^^^^^^^^^^^^^^^^^^^^^^^^^^^^^^^^^^^^^^^^^^^^^^^^^^^^^^^^^^^^^^^^^^^^^^^^^^^^^^^^^^^\n",
      "  File \"/Users/sonjambaro/anaconda3/lib/python3.11/site-packages/anyio/_backends/_asyncio.py\", line 818, in run_sync_in_worker_thread\n",
      "    return await future\n",
      "           ^^^^^^^^^^^^\n",
      "  File \"/Users/sonjambaro/anaconda3/lib/python3.11/site-packages/anyio/_backends/_asyncio.py\", line 754, in run\n",
      "    result = context.run(func, *args)\n",
      "             ^^^^^^^^^^^^^^^^^^^^^^^^\n",
      "  File \"/var/folders/jj/dm8tbcj11273_w688qyz4jmh0000gp/T/ipykernel_9340/2910330735.py\", line 16, in predict\n",
      "    gpt_response = llm(history_langchain_format)\n",
      "                   ^^^^^^^^^^^^^^^^^^^^^^^^^^^^^\n",
      "  File \"/Users/sonjambaro/anaconda3/lib/python3.11/site-packages/langchain_core/_api/deprecation.py\", line 145, in warning_emitting_wrapper\n",
      "    return wrapped(*args, **kwargs)\n",
      "           ^^^^^^^^^^^^^^^^^^^^^^^^\n",
      "  File \"/Users/sonjambaro/anaconda3/lib/python3.11/site-packages/langchain_core/language_models/chat_models.py\", line 798, in __call__\n",
      "    generation = self.generate(\n",
      "                 ^^^^^^^^^^^^^^\n",
      "  File \"/Users/sonjambaro/anaconda3/lib/python3.11/site-packages/langchain_core/language_models/chat_models.py\", line 415, in generate\n",
      "    raise e\n",
      "  File \"/Users/sonjambaro/anaconda3/lib/python3.11/site-packages/langchain_core/language_models/chat_models.py\", line 405, in generate\n",
      "    self._generate_with_cache(\n",
      "  File \"/Users/sonjambaro/anaconda3/lib/python3.11/site-packages/langchain_core/language_models/chat_models.py\", line 624, in _generate_with_cache\n",
      "    result = self._generate(\n",
      "             ^^^^^^^^^^^^^^^\n",
      "  File \"/Users/sonjambaro/anaconda3/lib/python3.11/site-packages/langchain_community/chat_models/openai.py\", line 441, in _generate\n",
      "    response = self.completion_with_retry(\n",
      "               ^^^^^^^^^^^^^^^^^^^^^^^^^^^\n",
      "  File \"/Users/sonjambaro/anaconda3/lib/python3.11/site-packages/langchain_community/chat_models/openai.py\", line 356, in completion_with_retry\n",
      "    return self.client.create(**kwargs)\n",
      "           ^^^^^^^^^^^^^^^^^^^^^^^^^^^^\n",
      "  File \"/Users/sonjambaro/anaconda3/lib/python3.11/site-packages/openai/_utils/_utils.py\", line 275, in wrapper\n",
      "    return func(*args, **kwargs)\n",
      "           ^^^^^^^^^^^^^^^^^^^^^\n",
      "  File \"/Users/sonjambaro/anaconda3/lib/python3.11/site-packages/openai/resources/chat/completions.py\", line 667, in create\n",
      "    return self._post(\n",
      "           ^^^^^^^^^^^\n",
      "  File \"/Users/sonjambaro/anaconda3/lib/python3.11/site-packages/openai/_base_client.py\", line 1213, in post\n",
      "    return cast(ResponseT, self.request(cast_to, opts, stream=stream, stream_cls=stream_cls))\n",
      "                           ^^^^^^^^^^^^^^^^^^^^^^^^^^^^^^^^^^^^^^^^^^^^^^^^^^^^^^^^^^^^^^^^^\n",
      "  File \"/Users/sonjambaro/anaconda3/lib/python3.11/site-packages/openai/_base_client.py\", line 902, in request\n",
      "    return self._request(\n",
      "           ^^^^^^^^^^^^^^\n",
      "  File \"/Users/sonjambaro/anaconda3/lib/python3.11/site-packages/openai/_base_client.py\", line 993, in _request\n",
      "    raise self._make_status_error_from_response(err.response) from None\n",
      "openai.AuthenticationError: Error code: 401 - {'error': {'message': 'Incorrect API key provided: sk-.... You can find your API key at https://platform.openai.com/account/api-keys.', 'type': 'invalid_request_error', 'param': None, 'code': 'invalid_api_key'}}\n"
     ]
    }
   ],
   "source": [
    "from langchain.chat_models import ChatOpenAI\n",
    "from langchain.schema import AIMessage, HumanMessage\n",
    "import openai\n",
    "import gradio as gr\n",
    "\n",
    "os.environ[\"OPENAI_API_KEY\"] = \"sk-...\"  # Replace with your key\n",
    "\n",
    "llm = ChatOpenAI(temperature=1.0, model='gpt-3.5-turbo-0613')\n",
    "\n",
    "def predict(message, history):\n",
    "    history_langchain_format = []\n",
    "    for human, ai in history:\n",
    "        history_langchain_format.append(HumanMessage(content=human))\n",
    "        history_langchain_format.append(AIMessage(content=ai))\n",
    "    history_langchain_format.append(HumanMessage(content=message))\n",
    "    gpt_response = llm(history_langchain_format)\n",
    "    return gpt_response.content\n",
    "\n",
    "gr.ChatInterface(predict).launch()"
   ]
  },
  {
   "cell_type": "code",
   "execution_count": null,
   "metadata": {},
   "outputs": [],
   "source": [
    "# Create a savings interest calculator function that takes \n",
    "# the balance, apr, and number of days, and returns the interest for the number of days. \n",
    "def calculate_interest(balance, apr, days):\n",
    "    \"\"\"\n",
    "    Calculate the interest earned on a balance based on the annual percentage rate (APR) over a specified number of days.\n",
    "\n",
    "    Parameters:\n",
    "    - balance (float): The initial balance or principal amount.\n",
    "    - apr (float): The Annual Percentage Rate (APR) as a percentage.\n",
    "    - days (int): The number of days for which interest is calculated.\n",
    "\n",
    "    Returns:\n",
    "    float: The interest earned rounded to 2 decimal places.\n",
    "    \"\"\"\n",
    "    apr_decimal = apr/100\n",
    "    interest_rate = apr_decimal * (days/365)\n",
    "    interest_earned = balance * interest_rate\n",
    "    return round(interest_earned,2)\n",
    "\n",
    "# Create an instance of the Gradio Interface application function with the following parameters. \n",
    "app = gr.Interface(fn=calculate_interest, \n",
    "                   inputs=[\"number\",\"number\", 'number'], outputs=\"number\")\n",
    "# Launch the app\n",
    "app.launch()"
   ]
  }
 ],
 "metadata": {
  "kernelspec": {
   "display_name": "base",
   "language": "python",
   "name": "python3"
  },
  "language_info": {
   "codemirror_mode": {
    "name": "ipython",
    "version": 3
   },
   "file_extension": ".py",
   "mimetype": "text/x-python",
   "name": "python",
   "nbconvert_exporter": "python",
   "pygments_lexer": "ipython3",
   "version": "3.11.5"
  }
 },
 "nbformat": 4,
 "nbformat_minor": 2
}
